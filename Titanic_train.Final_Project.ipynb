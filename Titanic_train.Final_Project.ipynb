{
 "cells": [
  {
   "cell_type": "markdown",
   "id": "2f9ea75e",
   "metadata": {},
   "source": [
    "# Titanic Project"
   ]
  },
  {
   "cell_type": "markdown",
   "id": "69f9366f",
   "metadata": {},
   "source": [
    "# Problem Statement:\n",
    " The Titanic Problem is based on the sinking of the ‘Unsinkable’ ship Titanic in early 1912. It gives you information about multiple people like their ages, sexes, sibling counts, embarkment points, and whether or not they survived the disaster. Based on these features, you have to predict if an arbitrary passenger on Titanic would survive the sinking or not. \n",
    "\n",
    "Note: You can find the dataset in the link below.\n",
    "Downlaod Files:\n",
    "https://github.com/dsrscientist/dataset1/blob/master/titanic_train.csv"
   ]
  },
  {
   "cell_type": "code",
   "execution_count": 4,
   "id": "8d190832",
   "metadata": {},
   "outputs": [],
   "source": [
    "#importing important libraries\n",
    "import pandas as pd\n",
    "import numpy as np\n",
    "import matplotlib.pyplot as plt\n",
    "import seaborn as sns\n",
    "import warnings\n",
    "warnings.filterwarnings('ignore')"
   ]
  },
  {
   "cell_type": "markdown",
   "id": "40be0699",
   "metadata": {},
   "source": [
    "# Loading the dataset"
   ]
  },
  {
   "cell_type": "code",
   "execution_count": 5,
   "id": "e5b52ae0",
   "metadata": {},
   "outputs": [
    {
     "data": {
      "text/html": [
       "<div>\n",
       "<style scoped>\n",
       "    .dataframe tbody tr th:only-of-type {\n",
       "        vertical-align: middle;\n",
       "    }\n",
       "\n",
       "    .dataframe tbody tr th {\n",
       "        vertical-align: top;\n",
       "    }\n",
       "\n",
       "    .dataframe thead th {\n",
       "        text-align: right;\n",
       "    }\n",
       "</style>\n",
       "<table border=\"1\" class=\"dataframe\">\n",
       "  <thead>\n",
       "    <tr style=\"text-align: right;\">\n",
       "      <th></th>\n",
       "      <th>PassengerId</th>\n",
       "      <th>Survived</th>\n",
       "      <th>Pclass</th>\n",
       "      <th>Name</th>\n",
       "      <th>Sex</th>\n",
       "      <th>Age</th>\n",
       "      <th>SibSp</th>\n",
       "      <th>Parch</th>\n",
       "      <th>Ticket</th>\n",
       "      <th>Fare</th>\n",
       "      <th>Cabin</th>\n",
       "      <th>Embarked</th>\n",
       "    </tr>\n",
       "  </thead>\n",
       "  <tbody>\n",
       "    <tr>\n",
       "      <th>0</th>\n",
       "      <td>1</td>\n",
       "      <td>0</td>\n",
       "      <td>3</td>\n",
       "      <td>Braund, Mr. Owen Harris</td>\n",
       "      <td>male</td>\n",
       "      <td>22.0</td>\n",
       "      <td>1</td>\n",
       "      <td>0</td>\n",
       "      <td>A/5 21171</td>\n",
       "      <td>7.2500</td>\n",
       "      <td>NaN</td>\n",
       "      <td>S</td>\n",
       "    </tr>\n",
       "    <tr>\n",
       "      <th>1</th>\n",
       "      <td>2</td>\n",
       "      <td>1</td>\n",
       "      <td>1</td>\n",
       "      <td>Cumings, Mrs. John Bradley (Florence Briggs Th...</td>\n",
       "      <td>female</td>\n",
       "      <td>38.0</td>\n",
       "      <td>1</td>\n",
       "      <td>0</td>\n",
       "      <td>PC 17599</td>\n",
       "      <td>71.2833</td>\n",
       "      <td>C85</td>\n",
       "      <td>C</td>\n",
       "    </tr>\n",
       "    <tr>\n",
       "      <th>2</th>\n",
       "      <td>3</td>\n",
       "      <td>1</td>\n",
       "      <td>3</td>\n",
       "      <td>Heikkinen, Miss. Laina</td>\n",
       "      <td>female</td>\n",
       "      <td>26.0</td>\n",
       "      <td>0</td>\n",
       "      <td>0</td>\n",
       "      <td>STON/O2. 3101282</td>\n",
       "      <td>7.9250</td>\n",
       "      <td>NaN</td>\n",
       "      <td>S</td>\n",
       "    </tr>\n",
       "    <tr>\n",
       "      <th>3</th>\n",
       "      <td>4</td>\n",
       "      <td>1</td>\n",
       "      <td>1</td>\n",
       "      <td>Futrelle, Mrs. Jacques Heath (Lily May Peel)</td>\n",
       "      <td>female</td>\n",
       "      <td>35.0</td>\n",
       "      <td>1</td>\n",
       "      <td>0</td>\n",
       "      <td>113803</td>\n",
       "      <td>53.1000</td>\n",
       "      <td>C123</td>\n",
       "      <td>S</td>\n",
       "    </tr>\n",
       "    <tr>\n",
       "      <th>4</th>\n",
       "      <td>5</td>\n",
       "      <td>0</td>\n",
       "      <td>3</td>\n",
       "      <td>Allen, Mr. William Henry</td>\n",
       "      <td>male</td>\n",
       "      <td>35.0</td>\n",
       "      <td>0</td>\n",
       "      <td>0</td>\n",
       "      <td>373450</td>\n",
       "      <td>8.0500</td>\n",
       "      <td>NaN</td>\n",
       "      <td>S</td>\n",
       "    </tr>\n",
       "    <tr>\n",
       "      <th>...</th>\n",
       "      <td>...</td>\n",
       "      <td>...</td>\n",
       "      <td>...</td>\n",
       "      <td>...</td>\n",
       "      <td>...</td>\n",
       "      <td>...</td>\n",
       "      <td>...</td>\n",
       "      <td>...</td>\n",
       "      <td>...</td>\n",
       "      <td>...</td>\n",
       "      <td>...</td>\n",
       "      <td>...</td>\n",
       "    </tr>\n",
       "    <tr>\n",
       "      <th>886</th>\n",
       "      <td>887</td>\n",
       "      <td>0</td>\n",
       "      <td>2</td>\n",
       "      <td>Montvila, Rev. Juozas</td>\n",
       "      <td>male</td>\n",
       "      <td>27.0</td>\n",
       "      <td>0</td>\n",
       "      <td>0</td>\n",
       "      <td>211536</td>\n",
       "      <td>13.0000</td>\n",
       "      <td>NaN</td>\n",
       "      <td>S</td>\n",
       "    </tr>\n",
       "    <tr>\n",
       "      <th>887</th>\n",
       "      <td>888</td>\n",
       "      <td>1</td>\n",
       "      <td>1</td>\n",
       "      <td>Graham, Miss. Margaret Edith</td>\n",
       "      <td>female</td>\n",
       "      <td>19.0</td>\n",
       "      <td>0</td>\n",
       "      <td>0</td>\n",
       "      <td>112053</td>\n",
       "      <td>30.0000</td>\n",
       "      <td>B42</td>\n",
       "      <td>S</td>\n",
       "    </tr>\n",
       "    <tr>\n",
       "      <th>888</th>\n",
       "      <td>889</td>\n",
       "      <td>0</td>\n",
       "      <td>3</td>\n",
       "      <td>Johnston, Miss. Catherine Helen \"Carrie\"</td>\n",
       "      <td>female</td>\n",
       "      <td>NaN</td>\n",
       "      <td>1</td>\n",
       "      <td>2</td>\n",
       "      <td>W./C. 6607</td>\n",
       "      <td>23.4500</td>\n",
       "      <td>NaN</td>\n",
       "      <td>S</td>\n",
       "    </tr>\n",
       "    <tr>\n",
       "      <th>889</th>\n",
       "      <td>890</td>\n",
       "      <td>1</td>\n",
       "      <td>1</td>\n",
       "      <td>Behr, Mr. Karl Howell</td>\n",
       "      <td>male</td>\n",
       "      <td>26.0</td>\n",
       "      <td>0</td>\n",
       "      <td>0</td>\n",
       "      <td>111369</td>\n",
       "      <td>30.0000</td>\n",
       "      <td>C148</td>\n",
       "      <td>C</td>\n",
       "    </tr>\n",
       "    <tr>\n",
       "      <th>890</th>\n",
       "      <td>891</td>\n",
       "      <td>0</td>\n",
       "      <td>3</td>\n",
       "      <td>Dooley, Mr. Patrick</td>\n",
       "      <td>male</td>\n",
       "      <td>32.0</td>\n",
       "      <td>0</td>\n",
       "      <td>0</td>\n",
       "      <td>370376</td>\n",
       "      <td>7.7500</td>\n",
       "      <td>NaN</td>\n",
       "      <td>Q</td>\n",
       "    </tr>\n",
       "  </tbody>\n",
       "</table>\n",
       "<p>891 rows × 12 columns</p>\n",
       "</div>"
      ],
      "text/plain": [
       "     PassengerId  Survived  Pclass  \\\n",
       "0              1         0       3   \n",
       "1              2         1       1   \n",
       "2              3         1       3   \n",
       "3              4         1       1   \n",
       "4              5         0       3   \n",
       "..           ...       ...     ...   \n",
       "886          887         0       2   \n",
       "887          888         1       1   \n",
       "888          889         0       3   \n",
       "889          890         1       1   \n",
       "890          891         0       3   \n",
       "\n",
       "                                                  Name     Sex   Age  SibSp  \\\n",
       "0                              Braund, Mr. Owen Harris    male  22.0      1   \n",
       "1    Cumings, Mrs. John Bradley (Florence Briggs Th...  female  38.0      1   \n",
       "2                               Heikkinen, Miss. Laina  female  26.0      0   \n",
       "3         Futrelle, Mrs. Jacques Heath (Lily May Peel)  female  35.0      1   \n",
       "4                             Allen, Mr. William Henry    male  35.0      0   \n",
       "..                                                 ...     ...   ...    ...   \n",
       "886                              Montvila, Rev. Juozas    male  27.0      0   \n",
       "887                       Graham, Miss. Margaret Edith  female  19.0      0   \n",
       "888           Johnston, Miss. Catherine Helen \"Carrie\"  female   NaN      1   \n",
       "889                              Behr, Mr. Karl Howell    male  26.0      0   \n",
       "890                                Dooley, Mr. Patrick    male  32.0      0   \n",
       "\n",
       "     Parch            Ticket     Fare Cabin Embarked  \n",
       "0        0         A/5 21171   7.2500   NaN        S  \n",
       "1        0          PC 17599  71.2833   C85        C  \n",
       "2        0  STON/O2. 3101282   7.9250   NaN        S  \n",
       "3        0            113803  53.1000  C123        S  \n",
       "4        0            373450   8.0500   NaN        S  \n",
       "..     ...               ...      ...   ...      ...  \n",
       "886      0            211536  13.0000   NaN        S  \n",
       "887      0            112053  30.0000   B42        S  \n",
       "888      2        W./C. 6607  23.4500   NaN        S  \n",
       "889      0            111369  30.0000  C148        C  \n",
       "890      0            370376   7.7500   NaN        Q  \n",
       "\n",
       "[891 rows x 12 columns]"
      ]
     },
     "execution_count": 5,
     "metadata": {},
     "output_type": "execute_result"
    }
   ],
   "source": [
    "df=pd.read_csv('https://raw.githubusercontent.com/roni96007/ProjectsDatatrained/main/Practice_Projects/Project%205/titanic_train.csv')\n",
    "df"
   ]
  },
  {
   "cell_type": "code",
   "execution_count": 6,
   "id": "8af8bf88",
   "metadata": {},
   "outputs": [
    {
     "data": {
      "text/html": [
       "<div>\n",
       "<style scoped>\n",
       "    .dataframe tbody tr th:only-of-type {\n",
       "        vertical-align: middle;\n",
       "    }\n",
       "\n",
       "    .dataframe tbody tr th {\n",
       "        vertical-align: top;\n",
       "    }\n",
       "\n",
       "    .dataframe thead th {\n",
       "        text-align: right;\n",
       "    }\n",
       "</style>\n",
       "<table border=\"1\" class=\"dataframe\">\n",
       "  <thead>\n",
       "    <tr style=\"text-align: right;\">\n",
       "      <th></th>\n",
       "      <th>PassengerId</th>\n",
       "      <th>Survived</th>\n",
       "      <th>Pclass</th>\n",
       "      <th>Name</th>\n",
       "      <th>Sex</th>\n",
       "      <th>Age</th>\n",
       "      <th>SibSp</th>\n",
       "      <th>Parch</th>\n",
       "      <th>Ticket</th>\n",
       "      <th>Fare</th>\n",
       "      <th>Cabin</th>\n",
       "      <th>Embarked</th>\n",
       "    </tr>\n",
       "  </thead>\n",
       "  <tbody>\n",
       "    <tr>\n",
       "      <th>0</th>\n",
       "      <td>1</td>\n",
       "      <td>0</td>\n",
       "      <td>3</td>\n",
       "      <td>Braund, Mr. Owen Harris</td>\n",
       "      <td>male</td>\n",
       "      <td>22.0</td>\n",
       "      <td>1</td>\n",
       "      <td>0</td>\n",
       "      <td>A/5 21171</td>\n",
       "      <td>7.2500</td>\n",
       "      <td>NaN</td>\n",
       "      <td>S</td>\n",
       "    </tr>\n",
       "    <tr>\n",
       "      <th>1</th>\n",
       "      <td>2</td>\n",
       "      <td>1</td>\n",
       "      <td>1</td>\n",
       "      <td>Cumings, Mrs. John Bradley (Florence Briggs Th...</td>\n",
       "      <td>female</td>\n",
       "      <td>38.0</td>\n",
       "      <td>1</td>\n",
       "      <td>0</td>\n",
       "      <td>PC 17599</td>\n",
       "      <td>71.2833</td>\n",
       "      <td>C85</td>\n",
       "      <td>C</td>\n",
       "    </tr>\n",
       "    <tr>\n",
       "      <th>2</th>\n",
       "      <td>3</td>\n",
       "      <td>1</td>\n",
       "      <td>3</td>\n",
       "      <td>Heikkinen, Miss. Laina</td>\n",
       "      <td>female</td>\n",
       "      <td>26.0</td>\n",
       "      <td>0</td>\n",
       "      <td>0</td>\n",
       "      <td>STON/O2. 3101282</td>\n",
       "      <td>7.9250</td>\n",
       "      <td>NaN</td>\n",
       "      <td>S</td>\n",
       "    </tr>\n",
       "    <tr>\n",
       "      <th>3</th>\n",
       "      <td>4</td>\n",
       "      <td>1</td>\n",
       "      <td>1</td>\n",
       "      <td>Futrelle, Mrs. Jacques Heath (Lily May Peel)</td>\n",
       "      <td>female</td>\n",
       "      <td>35.0</td>\n",
       "      <td>1</td>\n",
       "      <td>0</td>\n",
       "      <td>113803</td>\n",
       "      <td>53.1000</td>\n",
       "      <td>C123</td>\n",
       "      <td>S</td>\n",
       "    </tr>\n",
       "    <tr>\n",
       "      <th>4</th>\n",
       "      <td>5</td>\n",
       "      <td>0</td>\n",
       "      <td>3</td>\n",
       "      <td>Allen, Mr. William Henry</td>\n",
       "      <td>male</td>\n",
       "      <td>35.0</td>\n",
       "      <td>0</td>\n",
       "      <td>0</td>\n",
       "      <td>373450</td>\n",
       "      <td>8.0500</td>\n",
       "      <td>NaN</td>\n",
       "      <td>S</td>\n",
       "    </tr>\n",
       "  </tbody>\n",
       "</table>\n",
       "</div>"
      ],
      "text/plain": [
       "   PassengerId  Survived  Pclass  \\\n",
       "0            1         0       3   \n",
       "1            2         1       1   \n",
       "2            3         1       3   \n",
       "3            4         1       1   \n",
       "4            5         0       3   \n",
       "\n",
       "                                                Name     Sex   Age  SibSp  \\\n",
       "0                            Braund, Mr. Owen Harris    male  22.0      1   \n",
       "1  Cumings, Mrs. John Bradley (Florence Briggs Th...  female  38.0      1   \n",
       "2                             Heikkinen, Miss. Laina  female  26.0      0   \n",
       "3       Futrelle, Mrs. Jacques Heath (Lily May Peel)  female  35.0      1   \n",
       "4                           Allen, Mr. William Henry    male  35.0      0   \n",
       "\n",
       "   Parch            Ticket     Fare Cabin Embarked  \n",
       "0      0         A/5 21171   7.2500   NaN        S  \n",
       "1      0          PC 17599  71.2833   C85        C  \n",
       "2      0  STON/O2. 3101282   7.9250   NaN        S  \n",
       "3      0            113803  53.1000  C123        S  \n",
       "4      0            373450   8.0500   NaN        S  "
      ]
     },
     "execution_count": 6,
     "metadata": {},
     "output_type": "execute_result"
    }
   ],
   "source": [
    "#printing first five rows of the dataset using .head()\n",
    "df.head()"
   ]
  },
  {
   "cell_type": "code",
   "execution_count": 7,
   "id": "4fe9f95e",
   "metadata": {},
   "outputs": [
    {
     "data": {
      "text/plain": [
       "(891, 12)"
      ]
     },
     "execution_count": 7,
     "metadata": {},
     "output_type": "execute_result"
    }
   ],
   "source": [
    "#printing the shape of the dataset\n",
    "df.shape"
   ]
  },
  {
   "cell_type": "code",
   "execution_count": 8,
   "id": "c5e99ca6",
   "metadata": {},
   "outputs": [
    {
     "name": "stdout",
     "output_type": "stream",
     "text": [
      "<class 'pandas.core.frame.DataFrame'>\n",
      "RangeIndex: 891 entries, 0 to 890\n",
      "Data columns (total 12 columns):\n",
      " #   Column       Non-Null Count  Dtype  \n",
      "---  ------       --------------  -----  \n",
      " 0   PassengerId  891 non-null    int64  \n",
      " 1   Survived     891 non-null    int64  \n",
      " 2   Pclass       891 non-null    int64  \n",
      " 3   Name         891 non-null    object \n",
      " 4   Sex          891 non-null    object \n",
      " 5   Age          714 non-null    float64\n",
      " 6   SibSp        891 non-null    int64  \n",
      " 7   Parch        891 non-null    int64  \n",
      " 8   Ticket       891 non-null    object \n",
      " 9   Fare         891 non-null    float64\n",
      " 10  Cabin        204 non-null    object \n",
      " 11  Embarked     889 non-null    object \n",
      "dtypes: float64(2), int64(5), object(5)\n",
      "memory usage: 83.7+ KB\n"
     ]
    }
   ],
   "source": [
    "#find some more information from data\n",
    "df.info()"
   ]
  },
  {
   "cell_type": "markdown",
   "id": "77d7cb4f",
   "metadata": {},
   "source": [
    "#There are 5 columns present in the dataset having categorical data and we need to convert them into numerical data. It can be done by using LabelEncoder"
   ]
  },
  {
   "cell_type": "code",
   "execution_count": 9,
   "id": "28298d73",
   "metadata": {},
   "outputs": [
    {
     "data": {
      "text/plain": [
       "PassengerId      0\n",
       "Survived         0\n",
       "Pclass           0\n",
       "Name             0\n",
       "Sex              0\n",
       "Age            177\n",
       "SibSp            0\n",
       "Parch            0\n",
       "Ticket           0\n",
       "Fare             0\n",
       "Cabin          687\n",
       "Embarked         2\n",
       "dtype: int64"
      ]
     },
     "execution_count": 9,
     "metadata": {},
     "output_type": "execute_result"
    }
   ],
   "source": [
    "#checking the null values in the dataset\n",
    "df.isnull().sum()"
   ]
  },
  {
   "cell_type": "markdown",
   "id": "b186816c",
   "metadata": {},
   "source": [
    "We have null values present in Age column , Cabin column and Embarked column so we can replace the nan values using numpy and simple imputer"
   ]
  },
  {
   "cell_type": "markdown",
   "id": "3792b5f6",
   "metadata": {},
   "source": [
    "There are lots of missing value in cabin so we cannot able to fill the nan values because its too high in number better we can drop the column and will continue."
   ]
  },
  {
   "cell_type": "code",
   "execution_count": 10,
   "id": "93ac3bdc",
   "metadata": {},
   "outputs": [
    {
     "data": {
      "text/plain": [
       "Index(['PassengerId', 'Survived', 'Pclass', 'Name', 'Sex', 'Age', 'SibSp',\n",
       "       'Parch', 'Ticket', 'Fare', 'Cabin', 'Embarked'],\n",
       "      dtype='object')"
      ]
     },
     "execution_count": 10,
     "metadata": {},
     "output_type": "execute_result"
    }
   ],
   "source": [
    "#Finnding out columns names\n",
    "df.columns"
   ]
  },
  {
   "cell_type": "code",
   "execution_count": 11,
   "id": "0ad7fcca",
   "metadata": {},
   "outputs": [],
   "source": [
    "#Dropping cabin column\n",
    "df=df.drop(columns= 'Cabin',axis=1)"
   ]
  },
  {
   "cell_type": "code",
   "execution_count": 12,
   "id": "da8ca698",
   "metadata": {},
   "outputs": [
    {
     "data": {
      "text/html": [
       "<div>\n",
       "<style scoped>\n",
       "    .dataframe tbody tr th:only-of-type {\n",
       "        vertical-align: middle;\n",
       "    }\n",
       "\n",
       "    .dataframe tbody tr th {\n",
       "        vertical-align: top;\n",
       "    }\n",
       "\n",
       "    .dataframe thead th {\n",
       "        text-align: right;\n",
       "    }\n",
       "</style>\n",
       "<table border=\"1\" class=\"dataframe\">\n",
       "  <thead>\n",
       "    <tr style=\"text-align: right;\">\n",
       "      <th></th>\n",
       "      <th>PassengerId</th>\n",
       "      <th>Survived</th>\n",
       "      <th>Pclass</th>\n",
       "      <th>Name</th>\n",
       "      <th>Sex</th>\n",
       "      <th>Age</th>\n",
       "      <th>SibSp</th>\n",
       "      <th>Parch</th>\n",
       "      <th>Ticket</th>\n",
       "      <th>Fare</th>\n",
       "      <th>Embarked</th>\n",
       "    </tr>\n",
       "  </thead>\n",
       "  <tbody>\n",
       "    <tr>\n",
       "      <th>0</th>\n",
       "      <td>1</td>\n",
       "      <td>0</td>\n",
       "      <td>3</td>\n",
       "      <td>Braund, Mr. Owen Harris</td>\n",
       "      <td>male</td>\n",
       "      <td>22.0</td>\n",
       "      <td>1</td>\n",
       "      <td>0</td>\n",
       "      <td>A/5 21171</td>\n",
       "      <td>7.2500</td>\n",
       "      <td>S</td>\n",
       "    </tr>\n",
       "    <tr>\n",
       "      <th>1</th>\n",
       "      <td>2</td>\n",
       "      <td>1</td>\n",
       "      <td>1</td>\n",
       "      <td>Cumings, Mrs. John Bradley (Florence Briggs Th...</td>\n",
       "      <td>female</td>\n",
       "      <td>38.0</td>\n",
       "      <td>1</td>\n",
       "      <td>0</td>\n",
       "      <td>PC 17599</td>\n",
       "      <td>71.2833</td>\n",
       "      <td>C</td>\n",
       "    </tr>\n",
       "    <tr>\n",
       "      <th>2</th>\n",
       "      <td>3</td>\n",
       "      <td>1</td>\n",
       "      <td>3</td>\n",
       "      <td>Heikkinen, Miss. Laina</td>\n",
       "      <td>female</td>\n",
       "      <td>26.0</td>\n",
       "      <td>0</td>\n",
       "      <td>0</td>\n",
       "      <td>STON/O2. 3101282</td>\n",
       "      <td>7.9250</td>\n",
       "      <td>S</td>\n",
       "    </tr>\n",
       "    <tr>\n",
       "      <th>3</th>\n",
       "      <td>4</td>\n",
       "      <td>1</td>\n",
       "      <td>1</td>\n",
       "      <td>Futrelle, Mrs. Jacques Heath (Lily May Peel)</td>\n",
       "      <td>female</td>\n",
       "      <td>35.0</td>\n",
       "      <td>1</td>\n",
       "      <td>0</td>\n",
       "      <td>113803</td>\n",
       "      <td>53.1000</td>\n",
       "      <td>S</td>\n",
       "    </tr>\n",
       "    <tr>\n",
       "      <th>4</th>\n",
       "      <td>5</td>\n",
       "      <td>0</td>\n",
       "      <td>3</td>\n",
       "      <td>Allen, Mr. William Henry</td>\n",
       "      <td>male</td>\n",
       "      <td>35.0</td>\n",
       "      <td>0</td>\n",
       "      <td>0</td>\n",
       "      <td>373450</td>\n",
       "      <td>8.0500</td>\n",
       "      <td>S</td>\n",
       "    </tr>\n",
       "    <tr>\n",
       "      <th>...</th>\n",
       "      <td>...</td>\n",
       "      <td>...</td>\n",
       "      <td>...</td>\n",
       "      <td>...</td>\n",
       "      <td>...</td>\n",
       "      <td>...</td>\n",
       "      <td>...</td>\n",
       "      <td>...</td>\n",
       "      <td>...</td>\n",
       "      <td>...</td>\n",
       "      <td>...</td>\n",
       "    </tr>\n",
       "    <tr>\n",
       "      <th>886</th>\n",
       "      <td>887</td>\n",
       "      <td>0</td>\n",
       "      <td>2</td>\n",
       "      <td>Montvila, Rev. Juozas</td>\n",
       "      <td>male</td>\n",
       "      <td>27.0</td>\n",
       "      <td>0</td>\n",
       "      <td>0</td>\n",
       "      <td>211536</td>\n",
       "      <td>13.0000</td>\n",
       "      <td>S</td>\n",
       "    </tr>\n",
       "    <tr>\n",
       "      <th>887</th>\n",
       "      <td>888</td>\n",
       "      <td>1</td>\n",
       "      <td>1</td>\n",
       "      <td>Graham, Miss. Margaret Edith</td>\n",
       "      <td>female</td>\n",
       "      <td>19.0</td>\n",
       "      <td>0</td>\n",
       "      <td>0</td>\n",
       "      <td>112053</td>\n",
       "      <td>30.0000</td>\n",
       "      <td>S</td>\n",
       "    </tr>\n",
       "    <tr>\n",
       "      <th>888</th>\n",
       "      <td>889</td>\n",
       "      <td>0</td>\n",
       "      <td>3</td>\n",
       "      <td>Johnston, Miss. Catherine Helen \"Carrie\"</td>\n",
       "      <td>female</td>\n",
       "      <td>NaN</td>\n",
       "      <td>1</td>\n",
       "      <td>2</td>\n",
       "      <td>W./C. 6607</td>\n",
       "      <td>23.4500</td>\n",
       "      <td>S</td>\n",
       "    </tr>\n",
       "    <tr>\n",
       "      <th>889</th>\n",
       "      <td>890</td>\n",
       "      <td>1</td>\n",
       "      <td>1</td>\n",
       "      <td>Behr, Mr. Karl Howell</td>\n",
       "      <td>male</td>\n",
       "      <td>26.0</td>\n",
       "      <td>0</td>\n",
       "      <td>0</td>\n",
       "      <td>111369</td>\n",
       "      <td>30.0000</td>\n",
       "      <td>C</td>\n",
       "    </tr>\n",
       "    <tr>\n",
       "      <th>890</th>\n",
       "      <td>891</td>\n",
       "      <td>0</td>\n",
       "      <td>3</td>\n",
       "      <td>Dooley, Mr. Patrick</td>\n",
       "      <td>male</td>\n",
       "      <td>32.0</td>\n",
       "      <td>0</td>\n",
       "      <td>0</td>\n",
       "      <td>370376</td>\n",
       "      <td>7.7500</td>\n",
       "      <td>Q</td>\n",
       "    </tr>\n",
       "  </tbody>\n",
       "</table>\n",
       "<p>891 rows × 11 columns</p>\n",
       "</div>"
      ],
      "text/plain": [
       "     PassengerId  Survived  Pclass  \\\n",
       "0              1         0       3   \n",
       "1              2         1       1   \n",
       "2              3         1       3   \n",
       "3              4         1       1   \n",
       "4              5         0       3   \n",
       "..           ...       ...     ...   \n",
       "886          887         0       2   \n",
       "887          888         1       1   \n",
       "888          889         0       3   \n",
       "889          890         1       1   \n",
       "890          891         0       3   \n",
       "\n",
       "                                                  Name     Sex   Age  SibSp  \\\n",
       "0                              Braund, Mr. Owen Harris    male  22.0      1   \n",
       "1    Cumings, Mrs. John Bradley (Florence Briggs Th...  female  38.0      1   \n",
       "2                               Heikkinen, Miss. Laina  female  26.0      0   \n",
       "3         Futrelle, Mrs. Jacques Heath (Lily May Peel)  female  35.0      1   \n",
       "4                             Allen, Mr. William Henry    male  35.0      0   \n",
       "..                                                 ...     ...   ...    ...   \n",
       "886                              Montvila, Rev. Juozas    male  27.0      0   \n",
       "887                       Graham, Miss. Margaret Edith  female  19.0      0   \n",
       "888           Johnston, Miss. Catherine Helen \"Carrie\"  female   NaN      1   \n",
       "889                              Behr, Mr. Karl Howell    male  26.0      0   \n",
       "890                                Dooley, Mr. Patrick    male  32.0      0   \n",
       "\n",
       "     Parch            Ticket     Fare Embarked  \n",
       "0        0         A/5 21171   7.2500        S  \n",
       "1        0          PC 17599  71.2833        C  \n",
       "2        0  STON/O2. 3101282   7.9250        S  \n",
       "3        0            113803  53.1000        S  \n",
       "4        0            373450   8.0500        S  \n",
       "..     ...               ...      ...      ...  \n",
       "886      0            211536  13.0000        S  \n",
       "887      0            112053  30.0000        S  \n",
       "888      2        W./C. 6607  23.4500        S  \n",
       "889      0            111369  30.0000        C  \n",
       "890      0            370376   7.7500        Q  \n",
       "\n",
       "[891 rows x 11 columns]"
      ]
     },
     "execution_count": 12,
     "metadata": {},
     "output_type": "execute_result"
    }
   ],
   "source": [
    "#checking the dataset after dropping cabin column\n",
    "df"
   ]
  },
  {
   "cell_type": "code",
   "execution_count": 13,
   "id": "9e6d6a8e",
   "metadata": {},
   "outputs": [],
   "source": [
    "#Replacing the values in Age column with mean\n",
    "df['Age'].fillna(df['Age'].mean(),inplace=True)\n"
   ]
  },
  {
   "cell_type": "code",
   "execution_count": 14,
   "id": "c313b44f",
   "metadata": {},
   "outputs": [
    {
     "name": "stdout",
     "output_type": "stream",
     "text": [
      "0    S\n",
      "dtype: object\n"
     ]
    }
   ],
   "source": [
    "#Finding the mode for Embarked column so that we can replace with more occuring value in that column\n",
    "print(df['Embarked'].mode())"
   ]
  },
  {
   "cell_type": "markdown",
   "id": "d5e80ab7",
   "metadata": {},
   "source": [
    "Most occuring values is 'S' so we can replace the missing values  with 'S'. we used mode option because it is a categorical column , we cannot use mean for categoricl column."
   ]
  },
  {
   "cell_type": "code",
   "execution_count": 15,
   "id": "c0be341e",
   "metadata": {},
   "outputs": [],
   "source": [
    "#Replacing the values in Embarked column with S value\n",
    "df['Embarked'].fillna(df['Embarked'].mode()[0],inplace=True)"
   ]
  },
  {
   "cell_type": "code",
   "execution_count": 16,
   "id": "b0c993d9",
   "metadata": {},
   "outputs": [
    {
     "data": {
      "text/plain": [
       "PassengerId    0\n",
       "Survived       0\n",
       "Pclass         0\n",
       "Name           0\n",
       "Sex            0\n",
       "Age            0\n",
       "SibSp          0\n",
       "Parch          0\n",
       "Ticket         0\n",
       "Fare           0\n",
       "Embarked       0\n",
       "dtype: int64"
      ]
     },
     "execution_count": 16,
     "metadata": {},
     "output_type": "execute_result"
    }
   ],
   "source": [
    "#After replacing the missing values in three column , we can check the null values onc second\n",
    "df.isnull().sum()"
   ]
  },
  {
   "cell_type": "code",
   "execution_count": 17,
   "id": "59495e44",
   "metadata": {},
   "outputs": [
    {
     "data": {
      "text/html": [
       "<div>\n",
       "<style scoped>\n",
       "    .dataframe tbody tr th:only-of-type {\n",
       "        vertical-align: middle;\n",
       "    }\n",
       "\n",
       "    .dataframe tbody tr th {\n",
       "        vertical-align: top;\n",
       "    }\n",
       "\n",
       "    .dataframe thead th {\n",
       "        text-align: right;\n",
       "    }\n",
       "</style>\n",
       "<table border=\"1\" class=\"dataframe\">\n",
       "  <thead>\n",
       "    <tr style=\"text-align: right;\">\n",
       "      <th></th>\n",
       "      <th>PassengerId</th>\n",
       "      <th>Survived</th>\n",
       "      <th>Pclass</th>\n",
       "      <th>Name</th>\n",
       "      <th>Sex</th>\n",
       "      <th>Age</th>\n",
       "      <th>SibSp</th>\n",
       "      <th>Parch</th>\n",
       "      <th>Ticket</th>\n",
       "      <th>Fare</th>\n",
       "      <th>Embarked</th>\n",
       "    </tr>\n",
       "  </thead>\n",
       "  <tbody>\n",
       "    <tr>\n",
       "      <th>0</th>\n",
       "      <td>1</td>\n",
       "      <td>0</td>\n",
       "      <td>3</td>\n",
       "      <td>Braund, Mr. Owen Harris</td>\n",
       "      <td>male</td>\n",
       "      <td>22.0</td>\n",
       "      <td>1</td>\n",
       "      <td>0</td>\n",
       "      <td>A/5 21171</td>\n",
       "      <td>7.2500</td>\n",
       "      <td>S</td>\n",
       "    </tr>\n",
       "    <tr>\n",
       "      <th>1</th>\n",
       "      <td>2</td>\n",
       "      <td>1</td>\n",
       "      <td>1</td>\n",
       "      <td>Cumings, Mrs. John Bradley (Florence Briggs Th...</td>\n",
       "      <td>female</td>\n",
       "      <td>38.0</td>\n",
       "      <td>1</td>\n",
       "      <td>0</td>\n",
       "      <td>PC 17599</td>\n",
       "      <td>71.2833</td>\n",
       "      <td>C</td>\n",
       "    </tr>\n",
       "    <tr>\n",
       "      <th>2</th>\n",
       "      <td>3</td>\n",
       "      <td>1</td>\n",
       "      <td>3</td>\n",
       "      <td>Heikkinen, Miss. Laina</td>\n",
       "      <td>female</td>\n",
       "      <td>26.0</td>\n",
       "      <td>0</td>\n",
       "      <td>0</td>\n",
       "      <td>STON/O2. 3101282</td>\n",
       "      <td>7.9250</td>\n",
       "      <td>S</td>\n",
       "    </tr>\n",
       "    <tr>\n",
       "      <th>3</th>\n",
       "      <td>4</td>\n",
       "      <td>1</td>\n",
       "      <td>1</td>\n",
       "      <td>Futrelle, Mrs. Jacques Heath (Lily May Peel)</td>\n",
       "      <td>female</td>\n",
       "      <td>35.0</td>\n",
       "      <td>1</td>\n",
       "      <td>0</td>\n",
       "      <td>113803</td>\n",
       "      <td>53.1000</td>\n",
       "      <td>S</td>\n",
       "    </tr>\n",
       "    <tr>\n",
       "      <th>4</th>\n",
       "      <td>5</td>\n",
       "      <td>0</td>\n",
       "      <td>3</td>\n",
       "      <td>Allen, Mr. William Henry</td>\n",
       "      <td>male</td>\n",
       "      <td>35.0</td>\n",
       "      <td>0</td>\n",
       "      <td>0</td>\n",
       "      <td>373450</td>\n",
       "      <td>8.0500</td>\n",
       "      <td>S</td>\n",
       "    </tr>\n",
       "  </tbody>\n",
       "</table>\n",
       "</div>"
      ],
      "text/plain": [
       "   PassengerId  Survived  Pclass  \\\n",
       "0            1         0       3   \n",
       "1            2         1       1   \n",
       "2            3         1       3   \n",
       "3            4         1       1   \n",
       "4            5         0       3   \n",
       "\n",
       "                                                Name     Sex   Age  SibSp  \\\n",
       "0                            Braund, Mr. Owen Harris    male  22.0      1   \n",
       "1  Cumings, Mrs. John Bradley (Florence Briggs Th...  female  38.0      1   \n",
       "2                             Heikkinen, Miss. Laina  female  26.0      0   \n",
       "3       Futrelle, Mrs. Jacques Heath (Lily May Peel)  female  35.0      1   \n",
       "4                           Allen, Mr. William Henry    male  35.0      0   \n",
       "\n",
       "   Parch            Ticket     Fare Embarked  \n",
       "0      0         A/5 21171   7.2500        S  \n",
       "1      0          PC 17599  71.2833        C  \n",
       "2      0  STON/O2. 3101282   7.9250        S  \n",
       "3      0            113803  53.1000        S  \n",
       "4      0            373450   8.0500        S  "
      ]
     },
     "execution_count": 17,
     "metadata": {},
     "output_type": "execute_result"
    }
   ],
   "source": [
    "#now checking the dataset again\n",
    "df.head()"
   ]
  },
  {
   "cell_type": "markdown",
   "id": "b5019ebc",
   "metadata": {},
   "source": [
    "# Exploratory Data Analysis"
   ]
  },
  {
   "cell_type": "code",
   "execution_count": 18,
   "id": "5013ad21",
   "metadata": {},
   "outputs": [
    {
     "data": {
      "text/html": [
       "<div>\n",
       "<style scoped>\n",
       "    .dataframe tbody tr th:only-of-type {\n",
       "        vertical-align: middle;\n",
       "    }\n",
       "\n",
       "    .dataframe tbody tr th {\n",
       "        vertical-align: top;\n",
       "    }\n",
       "\n",
       "    .dataframe thead th {\n",
       "        text-align: right;\n",
       "    }\n",
       "</style>\n",
       "<table border=\"1\" class=\"dataframe\">\n",
       "  <thead>\n",
       "    <tr style=\"text-align: right;\">\n",
       "      <th></th>\n",
       "      <th>PassengerId</th>\n",
       "      <th>Survived</th>\n",
       "      <th>Pclass</th>\n",
       "      <th>Age</th>\n",
       "      <th>SibSp</th>\n",
       "      <th>Parch</th>\n",
       "      <th>Fare</th>\n",
       "    </tr>\n",
       "  </thead>\n",
       "  <tbody>\n",
       "    <tr>\n",
       "      <th>count</th>\n",
       "      <td>891.000000</td>\n",
       "      <td>891.000000</td>\n",
       "      <td>891.000000</td>\n",
       "      <td>891.000000</td>\n",
       "      <td>891.000000</td>\n",
       "      <td>891.000000</td>\n",
       "      <td>891.000000</td>\n",
       "    </tr>\n",
       "    <tr>\n",
       "      <th>mean</th>\n",
       "      <td>446.000000</td>\n",
       "      <td>0.383838</td>\n",
       "      <td>2.308642</td>\n",
       "      <td>29.699118</td>\n",
       "      <td>0.523008</td>\n",
       "      <td>0.381594</td>\n",
       "      <td>32.204208</td>\n",
       "    </tr>\n",
       "    <tr>\n",
       "      <th>std</th>\n",
       "      <td>257.353842</td>\n",
       "      <td>0.486592</td>\n",
       "      <td>0.836071</td>\n",
       "      <td>13.002015</td>\n",
       "      <td>1.102743</td>\n",
       "      <td>0.806057</td>\n",
       "      <td>49.693429</td>\n",
       "    </tr>\n",
       "    <tr>\n",
       "      <th>min</th>\n",
       "      <td>1.000000</td>\n",
       "      <td>0.000000</td>\n",
       "      <td>1.000000</td>\n",
       "      <td>0.420000</td>\n",
       "      <td>0.000000</td>\n",
       "      <td>0.000000</td>\n",
       "      <td>0.000000</td>\n",
       "    </tr>\n",
       "    <tr>\n",
       "      <th>25%</th>\n",
       "      <td>223.500000</td>\n",
       "      <td>0.000000</td>\n",
       "      <td>2.000000</td>\n",
       "      <td>22.000000</td>\n",
       "      <td>0.000000</td>\n",
       "      <td>0.000000</td>\n",
       "      <td>7.910400</td>\n",
       "    </tr>\n",
       "    <tr>\n",
       "      <th>50%</th>\n",
       "      <td>446.000000</td>\n",
       "      <td>0.000000</td>\n",
       "      <td>3.000000</td>\n",
       "      <td>29.699118</td>\n",
       "      <td>0.000000</td>\n",
       "      <td>0.000000</td>\n",
       "      <td>14.454200</td>\n",
       "    </tr>\n",
       "    <tr>\n",
       "      <th>75%</th>\n",
       "      <td>668.500000</td>\n",
       "      <td>1.000000</td>\n",
       "      <td>3.000000</td>\n",
       "      <td>35.000000</td>\n",
       "      <td>1.000000</td>\n",
       "      <td>0.000000</td>\n",
       "      <td>31.000000</td>\n",
       "    </tr>\n",
       "    <tr>\n",
       "      <th>max</th>\n",
       "      <td>891.000000</td>\n",
       "      <td>1.000000</td>\n",
       "      <td>3.000000</td>\n",
       "      <td>80.000000</td>\n",
       "      <td>8.000000</td>\n",
       "      <td>6.000000</td>\n",
       "      <td>512.329200</td>\n",
       "    </tr>\n",
       "  </tbody>\n",
       "</table>\n",
       "</div>"
      ],
      "text/plain": [
       "       PassengerId    Survived      Pclass         Age       SibSp  \\\n",
       "count   891.000000  891.000000  891.000000  891.000000  891.000000   \n",
       "mean    446.000000    0.383838    2.308642   29.699118    0.523008   \n",
       "std     257.353842    0.486592    0.836071   13.002015    1.102743   \n",
       "min       1.000000    0.000000    1.000000    0.420000    0.000000   \n",
       "25%     223.500000    0.000000    2.000000   22.000000    0.000000   \n",
       "50%     446.000000    0.000000    3.000000   29.699118    0.000000   \n",
       "75%     668.500000    1.000000    3.000000   35.000000    1.000000   \n",
       "max     891.000000    1.000000    3.000000   80.000000    8.000000   \n",
       "\n",
       "            Parch        Fare  \n",
       "count  891.000000  891.000000  \n",
       "mean     0.381594   32.204208  \n",
       "std      0.806057   49.693429  \n",
       "min      0.000000    0.000000  \n",
       "25%      0.000000    7.910400  \n",
       "50%      0.000000   14.454200  \n",
       "75%      0.000000   31.000000  \n",
       "max      6.000000  512.329200  "
      ]
     },
     "execution_count": 18,
     "metadata": {},
     "output_type": "execute_result"
    }
   ],
   "source": [
    "#checking the Stastical information\n",
    "df.describe()"
   ]
  },
  {
   "cell_type": "code",
   "execution_count": 19,
   "id": "b8b8fdac",
   "metadata": {},
   "outputs": [
    {
     "data": {
      "text/plain": [
       "0    549\n",
       "1    342\n",
       "Name: Survived, dtype: int64"
      ]
     },
     "execution_count": 19,
     "metadata": {},
     "output_type": "execute_result"
    }
   ],
   "source": [
    "#Finding the number of people survived in the ship also finding number of people not survived\n",
    "df['Survived'].value_counts()"
   ]
  },
  {
   "cell_type": "markdown",
   "id": "b32a9522",
   "metadata": {},
   "source": [
    "Here we observed that 342 people survived(1 denotes survived)and 549 people not survived (0 denotes not survived)"
   ]
  },
  {
   "cell_type": "markdown",
   "id": "b74265fd",
   "metadata": {},
   "source": [
    "# Vishuvalisation using matplotlib and seaborn"
   ]
  },
  {
   "cell_type": "code",
   "execution_count": 20,
   "id": "6280c785",
   "metadata": {},
   "outputs": [
    {
     "data": {
      "image/png": "[encoded data removed]",
      "text/plain": [
       "<Figure size 432x288 with 1 Axes>"
      ]
     },
     "metadata": {
      "needs_background": "light"
     },
     "output_type": "display_data"
    }
   ],
   "source": [
    "#we already imported the libraries in the beginning\n",
    "#using a seaborn make countplot for survived column\n",
    "plt.figsize=(5,4)\n",
    "plt.ylabel('Count')\n",
    "plt.xlabel('Class')\n",
    "plt.title('Survived and not Survived')\n",
    "sns.countplot('Survived',data=df)\n",
    "plt.show()"
   ]
  },
  {
   "cell_type": "markdown",
   "id": "52756a30",
   "metadata": {},
   "source": [
    "That we come to know that not survived (0)is more than survived(1)column"
   ]
  },
  {
   "cell_type": "code",
   "execution_count": 21,
   "id": "43052a97",
   "metadata": {},
   "outputs": [
    {
     "data": {
      "image/png": "[encoded data removed]",
      "text/plain": [
       "<Figure size 432x288 with 1 Axes>"
      ]
     },
     "metadata": {
      "needs_background": "light"
     },
     "output_type": "display_data"
    }
   ],
   "source": [
    "#now checking using seaborn we can check by making countplot for 'Sex'column\n",
    "plt.figsize=(5,4)\n",
    "plt.ylabel('Count')\n",
    "plt.xlabel('Class')\n",
    "plt.title('Surviveed or not Survived')\n",
    "sns.countplot(df['Sex'],data=df)\n",
    "plt.show()"
   ]
  },
  {
   "cell_type": "markdown",
   "id": "e7ce5022",
   "metadata": {},
   "source": [
    "More Male passengers is not survived when compare to Female passengers.\n"
   ]
  },
  {
   "cell_type": "code",
   "execution_count": 22,
   "id": "4f8d2309",
   "metadata": {},
   "outputs": [
    {
     "data": {
      "text/plain": [
       "male      577\n",
       "female    314\n",
       "Name: Sex, dtype: int64"
      ]
     },
     "execution_count": 22,
     "metadata": {},
     "output_type": "execute_result"
    }
   ],
   "source": [
    "df['Sex'].value_counts()"
   ]
  },
  {
   "cell_type": "markdown",
   "id": "2171d694",
   "metadata": {},
   "source": [
    "Now we come to know that 577 Males not survived and 314 Females not survived\n"
   ]
  },
  {
   "cell_type": "code",
   "execution_count": 23,
   "id": "1d9b4c9e",
   "metadata": {},
   "outputs": [
    {
     "data": {
      "image/png": "[encoded data removed]",
      "text/plain": [
       "<Figure size 432x288 with 1 Axes>"
      ]
     },
     "metadata": {
      "needs_background": "light"
     },
     "output_type": "display_data"
    }
   ],
   "source": [
    "plt.figsize=(5,4)\n",
    "plt.ylabel('Count')\n",
    "plt.xlabel('Class')\n",
    "plt.title('Survived and not Survived')\n",
    "sns.countplot('Sex',hue='Survived',data=df)\n",
    "plt.show()\n",
    "\n"
   ]
  },
  {
   "cell_type": "code",
   "execution_count": 24,
   "id": "edb4d52f",
   "metadata": {},
   "outputs": [
    {
     "data": {
      "text/plain": [
       "3    491\n",
       "1    216\n",
       "2    184\n",
       "Name: Pclass, dtype: int64"
      ]
     },
     "execution_count": 24,
     "metadata": {},
     "output_type": "execute_result"
    }
   ],
   "source": [
    "df['Pclass'].value_counts()"
   ]
  },
  {
   "cell_type": "code",
   "execution_count": 25,
   "id": "d4f24d83",
   "metadata": {},
   "outputs": [
    {
     "data": {
      "image/png": "[encoded data removed]",
      "text/plain": [
       "<Figure size 432x288 with 1 Axes>"
      ]
     },
     "metadata": {
      "needs_background": "light"
     },
     "output_type": "display_data"
    }
   ],
   "source": [
    "plt.figsize=(5,4)\n",
    "plt.ylabel('Count')\n",
    "plt.xlabel('Class')\n",
    "plt.title(\"Survived or not Survived\")\n",
    "sns.countplot('Pclass',hue='Survived',data=df)\n",
    "plt.show()"
   ]
  },
  {
   "cell_type": "markdown",
   "id": "406e7ce1",
   "metadata": {},
   "source": [
    "First class passenger are more survived when compare to second class and thirdclass. Third class passenger are more not survived when compare to firstclass and secondclass."
   ]
  },
  {
   "cell_type": "code",
   "execution_count": 26,
   "id": "6dbedebd",
   "metadata": {},
   "outputs": [
    {
     "data": {
      "image/png": "[encoded data removed]",
      "text/plain": [
       "<Figure size 432x288 with 1 Axes>"
      ]
     },
     "metadata": {
      "needs_background": "light"
     },
     "output_type": "display_data"
    }
   ],
   "source": [
    "#plotting Embarked column\n",
    "plt.figsize=(5,4)\n",
    "plt.ylabel('Count')\n",
    "plt.xlabel('Class')\n",
    "sns.countplot('Embarked',hue='Survived',data=df)\n",
    "plt.show()"
   ]
  },
  {
   "cell_type": "code",
   "execution_count": 27,
   "id": "6228d423",
   "metadata": {},
   "outputs": [
    {
     "data": {
      "image/png": "[encoded data removed]",
      "text/plain": [
       "<Figure size 432x288 with 1 Axes>"
      ]
     },
     "metadata": {
      "needs_background": "light"
     },
     "output_type": "display_data"
    }
   ],
   "source": [
    "#plotting sibsp column\n",
    "plt.figsize=(5,4)\n",
    "plt.ylabel('Count')\n",
    "plt.xlabel('Class')\n",
    "sns.countplot('SibSp',hue='Survived',data=df)\n",
    "plt.show()"
   ]
  },
  {
   "cell_type": "code",
   "execution_count": 28,
   "id": "4d699d90",
   "metadata": {},
   "outputs": [
    {
     "data": {
      "text/html": [
       "<div>\n",
       "<style scoped>\n",
       "    .dataframe tbody tr th:only-of-type {\n",
       "        vertical-align: middle;\n",
       "    }\n",
       "\n",
       "    .dataframe tbody tr th {\n",
       "        vertical-align: top;\n",
       "    }\n",
       "\n",
       "    .dataframe thead th {\n",
       "        text-align: right;\n",
       "    }\n",
       "</style>\n",
       "<table border=\"1\" class=\"dataframe\">\n",
       "  <thead>\n",
       "    <tr style=\"text-align: right;\">\n",
       "      <th></th>\n",
       "      <th>PassengerId</th>\n",
       "      <th>Survived</th>\n",
       "      <th>Pclass</th>\n",
       "      <th>Age</th>\n",
       "      <th>SibSp</th>\n",
       "      <th>Parch</th>\n",
       "      <th>Fare</th>\n",
       "    </tr>\n",
       "  </thead>\n",
       "  <tbody>\n",
       "    <tr>\n",
       "      <th>PassengerId</th>\n",
       "      <td>1.000000</td>\n",
       "      <td>-0.005007</td>\n",
       "      <td>-0.035144</td>\n",
       "      <td>0.033207</td>\n",
       "      <td>-0.057527</td>\n",
       "      <td>-0.001652</td>\n",
       "      <td>0.012658</td>\n",
       "    </tr>\n",
       "    <tr>\n",
       "      <th>Survived</th>\n",
       "      <td>-0.005007</td>\n",
       "      <td>1.000000</td>\n",
       "      <td>-0.338481</td>\n",
       "      <td>-0.069809</td>\n",
       "      <td>-0.035322</td>\n",
       "      <td>0.081629</td>\n",
       "      <td>0.257307</td>\n",
       "    </tr>\n",
       "    <tr>\n",
       "      <th>Pclass</th>\n",
       "      <td>-0.035144</td>\n",
       "      <td>-0.338481</td>\n",
       "      <td>1.000000</td>\n",
       "      <td>-0.331339</td>\n",
       "      <td>0.083081</td>\n",
       "      <td>0.018443</td>\n",
       "      <td>-0.549500</td>\n",
       "    </tr>\n",
       "    <tr>\n",
       "      <th>Age</th>\n",
       "      <td>0.033207</td>\n",
       "      <td>-0.069809</td>\n",
       "      <td>-0.331339</td>\n",
       "      <td>1.000000</td>\n",
       "      <td>-0.232625</td>\n",
       "      <td>-0.179191</td>\n",
       "      <td>0.091566</td>\n",
       "    </tr>\n",
       "    <tr>\n",
       "      <th>SibSp</th>\n",
       "      <td>-0.057527</td>\n",
       "      <td>-0.035322</td>\n",
       "      <td>0.083081</td>\n",
       "      <td>-0.232625</td>\n",
       "      <td>1.000000</td>\n",
       "      <td>0.414838</td>\n",
       "      <td>0.159651</td>\n",
       "    </tr>\n",
       "    <tr>\n",
       "      <th>Parch</th>\n",
       "      <td>-0.001652</td>\n",
       "      <td>0.081629</td>\n",
       "      <td>0.018443</td>\n",
       "      <td>-0.179191</td>\n",
       "      <td>0.414838</td>\n",
       "      <td>1.000000</td>\n",
       "      <td>0.216225</td>\n",
       "    </tr>\n",
       "    <tr>\n",
       "      <th>Fare</th>\n",
       "      <td>0.012658</td>\n",
       "      <td>0.257307</td>\n",
       "      <td>-0.549500</td>\n",
       "      <td>0.091566</td>\n",
       "      <td>0.159651</td>\n",
       "      <td>0.216225</td>\n",
       "      <td>1.000000</td>\n",
       "    </tr>\n",
       "  </tbody>\n",
       "</table>\n",
       "</div>"
      ],
      "text/plain": [
       "             PassengerId  Survived    Pclass       Age     SibSp     Parch  \\\n",
       "PassengerId     1.000000 -0.005007 -0.035144  0.033207 -0.057527 -0.001652   \n",
       "Survived       -0.005007  1.000000 -0.338481 -0.069809 -0.035322  0.081629   \n",
       "Pclass         -0.035144 -0.338481  1.000000 -0.331339  0.083081  0.018443   \n",
       "Age             0.033207 -0.069809 -0.331339  1.000000 -0.232625 -0.179191   \n",
       "SibSp          -0.057527 -0.035322  0.083081 -0.232625  1.000000  0.414838   \n",
       "Parch          -0.001652  0.081629  0.018443 -0.179191  0.414838  1.000000   \n",
       "Fare            0.012658  0.257307 -0.549500  0.091566  0.159651  0.216225   \n",
       "\n",
       "                 Fare  \n",
       "PassengerId  0.012658  \n",
       "Survived     0.257307  \n",
       "Pclass      -0.549500  \n",
       "Age          0.091566  \n",
       "SibSp        0.159651  \n",
       "Parch        0.216225  \n",
       "Fare         1.000000  "
      ]
     },
     "execution_count": 28,
     "metadata": {},
     "output_type": "execute_result"
    }
   ],
   "source": [
    "#Lets find out the correlation relationship \n",
    "corr=df.corr()\n",
    "corr"
   ]
  },
  {
   "cell_type": "code",
   "execution_count": 29,
   "id": "749b7be4",
   "metadata": {},
   "outputs": [
    {
     "data": {
      "text/plain": [
       "<function matplotlib.pyplot.show(close=None, block=None)>"
      ]
     },
     "execution_count": 29,
     "metadata": {},
     "output_type": "execute_result"
    },
    {
     "data": {
      "image/png": "[encoded data removed]",
      "text/plain": [
       "<Figure size 1584x504 with 1 Axes>"
      ]
     },
     "metadata": {
      "needs_background": "light"
     },
     "output_type": "display_data"
    }
   ],
   "source": [
    "#visualize correlation \n",
    "plt.figure(figsize=(22,7))\n",
    "df.corr()['Survived'].sort_values(ascending=False).drop(['Survived']).plot(kind='bar',color='c')\n",
    "plt.xlabel('feature',fontsize=14)\n",
    "plt.ylabel('column with target names',fontsize=14)\n",
    "plt.title('correlation',fontsize=18)\n",
    "plt.show"
   ]
  },
  {
   "cell_type": "code",
   "execution_count": 30,
   "id": "20c40e0d",
   "metadata": {},
   "outputs": [
    {
     "data": {
      "image/png": "[encoded data removed]",
      "text/plain": [
       "<Figure size 1440x720 with 2 Axes>"
      ]
     },
     "metadata": {
      "needs_background": "light"
     },
     "output_type": "display_data"
    }
   ],
   "source": [
    "#Using heatmap we can vishualise the correlation between columns\n",
    "plt.figure(figsize=(20,10))\n",
    "sns.heatmap(corr,linewidth=0.5,linecolor='black',annot=True)\n",
    "plt.show()"
   ]
  },
  {
   "cell_type": "markdown",
   "id": "f6da3549",
   "metadata": {},
   "source": [
    "Observations:\n",
    "\n",
    "1.There are mostly positive correlations present\n",
    "\n",
    "2.Highest positive correlation is with source column and target variable, with a value of 41%\n",
    "\n",
    "3.Survived has the highest negative correlation with Pclass with a value of -34%\n",
    "\n",
    "4.Positive correlated columns have high impact with target variable, whereas negatively correlated columns have less or zero impact with the target variable"
   ]
  },
  {
   "cell_type": "code",
   "execution_count": 31,
   "id": "9d90e560",
   "metadata": {},
   "outputs": [],
   "source": [
    "#Converting the categorical into numeric values\n",
    "#using Encoding method\n",
    "\n",
    "df.replace({'Sex':{'male':0,'female':1},'Embarked':{'S':0,'C':1,'Q':2}},inplace=True)\n",
    "\n",
    "\n"
   ]
  },
  {
   "cell_type": "code",
   "execution_count": 32,
   "id": "2fccce50",
   "metadata": {},
   "outputs": [
    {
     "data": {
      "text/html": [
       "<div>\n",
       "<style scoped>\n",
       "    .dataframe tbody tr th:only-of-type {\n",
       "        vertical-align: middle;\n",
       "    }\n",
       "\n",
       "    .dataframe tbody tr th {\n",
       "        vertical-align: top;\n",
       "    }\n",
       "\n",
       "    .dataframe thead th {\n",
       "        text-align: right;\n",
       "    }\n",
       "</style>\n",
       "<table border=\"1\" class=\"dataframe\">\n",
       "  <thead>\n",
       "    <tr style=\"text-align: right;\">\n",
       "      <th></th>\n",
       "      <th>PassengerId</th>\n",
       "      <th>Survived</th>\n",
       "      <th>Pclass</th>\n",
       "      <th>Name</th>\n",
       "      <th>Sex</th>\n",
       "      <th>Age</th>\n",
       "      <th>SibSp</th>\n",
       "      <th>Parch</th>\n",
       "      <th>Ticket</th>\n",
       "      <th>Fare</th>\n",
       "      <th>Embarked</th>\n",
       "    </tr>\n",
       "  </thead>\n",
       "  <tbody>\n",
       "    <tr>\n",
       "      <th>0</th>\n",
       "      <td>1</td>\n",
       "      <td>0</td>\n",
       "      <td>3</td>\n",
       "      <td>Braund, Mr. Owen Harris</td>\n",
       "      <td>0</td>\n",
       "      <td>22.000000</td>\n",
       "      <td>1</td>\n",
       "      <td>0</td>\n",
       "      <td>A/5 21171</td>\n",
       "      <td>7.2500</td>\n",
       "      <td>0</td>\n",
       "    </tr>\n",
       "    <tr>\n",
       "      <th>1</th>\n",
       "      <td>2</td>\n",
       "      <td>1</td>\n",
       "      <td>1</td>\n",
       "      <td>Cumings, Mrs. John Bradley (Florence Briggs Th...</td>\n",
       "      <td>1</td>\n",
       "      <td>38.000000</td>\n",
       "      <td>1</td>\n",
       "      <td>0</td>\n",
       "      <td>PC 17599</td>\n",
       "      <td>71.2833</td>\n",
       "      <td>1</td>\n",
       "    </tr>\n",
       "    <tr>\n",
       "      <th>2</th>\n",
       "      <td>3</td>\n",
       "      <td>1</td>\n",
       "      <td>3</td>\n",
       "      <td>Heikkinen, Miss. Laina</td>\n",
       "      <td>1</td>\n",
       "      <td>26.000000</td>\n",
       "      <td>0</td>\n",
       "      <td>0</td>\n",
       "      <td>STON/O2. 3101282</td>\n",
       "      <td>7.9250</td>\n",
       "      <td>0</td>\n",
       "    </tr>\n",
       "    <tr>\n",
       "      <th>3</th>\n",
       "      <td>4</td>\n",
       "      <td>1</td>\n",
       "      <td>1</td>\n",
       "      <td>Futrelle, Mrs. Jacques Heath (Lily May Peel)</td>\n",
       "      <td>1</td>\n",
       "      <td>35.000000</td>\n",
       "      <td>1</td>\n",
       "      <td>0</td>\n",
       "      <td>113803</td>\n",
       "      <td>53.1000</td>\n",
       "      <td>0</td>\n",
       "    </tr>\n",
       "    <tr>\n",
       "      <th>4</th>\n",
       "      <td>5</td>\n",
       "      <td>0</td>\n",
       "      <td>3</td>\n",
       "      <td>Allen, Mr. William Henry</td>\n",
       "      <td>0</td>\n",
       "      <td>35.000000</td>\n",
       "      <td>0</td>\n",
       "      <td>0</td>\n",
       "      <td>373450</td>\n",
       "      <td>8.0500</td>\n",
       "      <td>0</td>\n",
       "    </tr>\n",
       "    <tr>\n",
       "      <th>...</th>\n",
       "      <td>...</td>\n",
       "      <td>...</td>\n",
       "      <td>...</td>\n",
       "      <td>...</td>\n",
       "      <td>...</td>\n",
       "      <td>...</td>\n",
       "      <td>...</td>\n",
       "      <td>...</td>\n",
       "      <td>...</td>\n",
       "      <td>...</td>\n",
       "      <td>...</td>\n",
       "    </tr>\n",
       "    <tr>\n",
       "      <th>886</th>\n",
       "      <td>887</td>\n",
       "      <td>0</td>\n",
       "      <td>2</td>\n",
       "      <td>Montvila, Rev. Juozas</td>\n",
       "      <td>0</td>\n",
       "      <td>27.000000</td>\n",
       "      <td>0</td>\n",
       "      <td>0</td>\n",
       "      <td>211536</td>\n",
       "      <td>13.0000</td>\n",
       "      <td>0</td>\n",
       "    </tr>\n",
       "    <tr>\n",
       "      <th>887</th>\n",
       "      <td>888</td>\n",
       "      <td>1</td>\n",
       "      <td>1</td>\n",
       "      <td>Graham, Miss. Margaret Edith</td>\n",
       "      <td>1</td>\n",
       "      <td>19.000000</td>\n",
       "      <td>0</td>\n",
       "      <td>0</td>\n",
       "      <td>112053</td>\n",
       "      <td>30.0000</td>\n",
       "      <td>0</td>\n",
       "    </tr>\n",
       "    <tr>\n",
       "      <th>888</th>\n",
       "      <td>889</td>\n",
       "      <td>0</td>\n",
       "      <td>3</td>\n",
       "      <td>Johnston, Miss. Catherine Helen \"Carrie\"</td>\n",
       "      <td>1</td>\n",
       "      <td>29.699118</td>\n",
       "      <td>1</td>\n",
       "      <td>2</td>\n",
       "      <td>W./C. 6607</td>\n",
       "      <td>23.4500</td>\n",
       "      <td>0</td>\n",
       "    </tr>\n",
       "    <tr>\n",
       "      <th>889</th>\n",
       "      <td>890</td>\n",
       "      <td>1</td>\n",
       "      <td>1</td>\n",
       "      <td>Behr, Mr. Karl Howell</td>\n",
       "      <td>0</td>\n",
       "      <td>26.000000</td>\n",
       "      <td>0</td>\n",
       "      <td>0</td>\n",
       "      <td>111369</td>\n",
       "      <td>30.0000</td>\n",
       "      <td>1</td>\n",
       "    </tr>\n",
       "    <tr>\n",
       "      <th>890</th>\n",
       "      <td>891</td>\n",
       "      <td>0</td>\n",
       "      <td>3</td>\n",
       "      <td>Dooley, Mr. Patrick</td>\n",
       "      <td>0</td>\n",
       "      <td>32.000000</td>\n",
       "      <td>0</td>\n",
       "      <td>0</td>\n",
       "      <td>370376</td>\n",
       "      <td>7.7500</td>\n",
       "      <td>2</td>\n",
       "    </tr>\n",
       "  </tbody>\n",
       "</table>\n",
       "<p>891 rows × 11 columns</p>\n",
       "</div>"
      ],
      "text/plain": [
       "     PassengerId  Survived  Pclass  \\\n",
       "0              1         0       3   \n",
       "1              2         1       1   \n",
       "2              3         1       3   \n",
       "3              4         1       1   \n",
       "4              5         0       3   \n",
       "..           ...       ...     ...   \n",
       "886          887         0       2   \n",
       "887          888         1       1   \n",
       "888          889         0       3   \n",
       "889          890         1       1   \n",
       "890          891         0       3   \n",
       "\n",
       "                                                  Name  Sex        Age  SibSp  \\\n",
       "0                              Braund, Mr. Owen Harris    0  22.000000      1   \n",
       "1    Cumings, Mrs. John Bradley (Florence Briggs Th...    1  38.000000      1   \n",
       "2                               Heikkinen, Miss. Laina    1  26.000000      0   \n",
       "3         Futrelle, Mrs. Jacques Heath (Lily May Peel)    1  35.000000      1   \n",
       "4                             Allen, Mr. William Henry    0  35.000000      0   \n",
       "..                                                 ...  ...        ...    ...   \n",
       "886                              Montvila, Rev. Juozas    0  27.000000      0   \n",
       "887                       Graham, Miss. Margaret Edith    1  19.000000      0   \n",
       "888           Johnston, Miss. Catherine Helen \"Carrie\"    1  29.699118      1   \n",
       "889                              Behr, Mr. Karl Howell    0  26.000000      0   \n",
       "890                                Dooley, Mr. Patrick    0  32.000000      0   \n",
       "\n",
       "     Parch            Ticket     Fare  Embarked  \n",
       "0        0         A/5 21171   7.2500         0  \n",
       "1        0          PC 17599  71.2833         1  \n",
       "2        0  STON/O2. 3101282   7.9250         0  \n",
       "3        0            113803  53.1000         0  \n",
       "4        0            373450   8.0500         0  \n",
       "..     ...               ...      ...       ...  \n",
       "886      0            211536  13.0000         0  \n",
       "887      0            112053  30.0000         0  \n",
       "888      2        W./C. 6607  23.4500         0  \n",
       "889      0            111369  30.0000         1  \n",
       "890      0            370376   7.7500         2  \n",
       "\n",
       "[891 rows x 11 columns]"
      ]
     },
     "execution_count": 32,
     "metadata": {},
     "output_type": "execute_result"
    }
   ],
   "source": [
    "df"
   ]
  },
  {
   "cell_type": "code",
   "execution_count": 33,
   "id": "5ade4658",
   "metadata": {},
   "outputs": [],
   "source": [
    "#Separating the feature and target column , as we cannot required some column like name, id , tickets \n",
    "#so we can drop that and remainin we can keep as feature column\n",
    "x=df.drop(columns=['PassengerId','Name','Ticket','Survived'],axis=1)\n",
    "y=df['Survived']\n"
   ]
  },
  {
   "cell_type": "code",
   "execution_count": 34,
   "id": "0842bca6",
   "metadata": {},
   "outputs": [
    {
     "data": {
      "text/html": [
       "<div>\n",
       "<style scoped>\n",
       "    .dataframe tbody tr th:only-of-type {\n",
       "        vertical-align: middle;\n",
       "    }\n",
       "\n",
       "    .dataframe tbody tr th {\n",
       "        vertical-align: top;\n",
       "    }\n",
       "\n",
       "    .dataframe thead th {\n",
       "        text-align: right;\n",
       "    }\n",
       "</style>\n",
       "<table border=\"1\" class=\"dataframe\">\n",
       "  <thead>\n",
       "    <tr style=\"text-align: right;\">\n",
       "      <th></th>\n",
       "      <th>Pclass</th>\n",
       "      <th>Sex</th>\n",
       "      <th>Age</th>\n",
       "      <th>SibSp</th>\n",
       "      <th>Parch</th>\n",
       "      <th>Fare</th>\n",
       "      <th>Embarked</th>\n",
       "    </tr>\n",
       "  </thead>\n",
       "  <tbody>\n",
       "    <tr>\n",
       "      <th>0</th>\n",
       "      <td>3</td>\n",
       "      <td>0</td>\n",
       "      <td>22.0</td>\n",
       "      <td>1</td>\n",
       "      <td>0</td>\n",
       "      <td>7.2500</td>\n",
       "      <td>0</td>\n",
       "    </tr>\n",
       "    <tr>\n",
       "      <th>1</th>\n",
       "      <td>1</td>\n",
       "      <td>1</td>\n",
       "      <td>38.0</td>\n",
       "      <td>1</td>\n",
       "      <td>0</td>\n",
       "      <td>71.2833</td>\n",
       "      <td>1</td>\n",
       "    </tr>\n",
       "    <tr>\n",
       "      <th>2</th>\n",
       "      <td>3</td>\n",
       "      <td>1</td>\n",
       "      <td>26.0</td>\n",
       "      <td>0</td>\n",
       "      <td>0</td>\n",
       "      <td>7.9250</td>\n",
       "      <td>0</td>\n",
       "    </tr>\n",
       "    <tr>\n",
       "      <th>3</th>\n",
       "      <td>1</td>\n",
       "      <td>1</td>\n",
       "      <td>35.0</td>\n",
       "      <td>1</td>\n",
       "      <td>0</td>\n",
       "      <td>53.1000</td>\n",
       "      <td>0</td>\n",
       "    </tr>\n",
       "    <tr>\n",
       "      <th>4</th>\n",
       "      <td>3</td>\n",
       "      <td>0</td>\n",
       "      <td>35.0</td>\n",
       "      <td>0</td>\n",
       "      <td>0</td>\n",
       "      <td>8.0500</td>\n",
       "      <td>0</td>\n",
       "    </tr>\n",
       "  </tbody>\n",
       "</table>\n",
       "</div>"
      ],
      "text/plain": [
       "   Pclass  Sex   Age  SibSp  Parch     Fare  Embarked\n",
       "0       3    0  22.0      1      0   7.2500         0\n",
       "1       1    1  38.0      1      0  71.2833         1\n",
       "2       3    1  26.0      0      0   7.9250         0\n",
       "3       1    1  35.0      1      0  53.1000         0\n",
       "4       3    0  35.0      0      0   8.0500         0"
      ]
     },
     "execution_count": 34,
     "metadata": {},
     "output_type": "execute_result"
    }
   ],
   "source": [
    "x.head()"
   ]
  },
  {
   "cell_type": "code",
   "execution_count": 35,
   "id": "2802f1a1",
   "metadata": {},
   "outputs": [
    {
     "data": {
      "text/plain": [
       "0    0\n",
       "1    1\n",
       "2    1\n",
       "3    1\n",
       "4    0\n",
       "Name: Survived, dtype: int64"
      ]
     },
     "execution_count": 35,
     "metadata": {},
     "output_type": "execute_result"
    }
   ],
   "source": [
    "y.head()"
   ]
  },
  {
   "cell_type": "code",
   "execution_count": 36,
   "id": "9a348edc",
   "metadata": {
    "scrolled": true
   },
   "outputs": [
    {
     "data": {
      "text/plain": [
       "PassengerId    0.000000\n",
       "Survived       0.478523\n",
       "Pclass        -0.630548\n",
       "Sex            0.618921\n",
       "Age            0.434488\n",
       "SibSp          3.695352\n",
       "Parch          2.749117\n",
       "Fare           4.787317\n",
       "Embarked       1.543397\n",
       "dtype: float64"
      ]
     },
     "execution_count": 36,
     "metadata": {},
     "output_type": "execute_result"
    }
   ],
   "source": [
    "#Now checking the skewness \n",
    "df.skew()"
   ]
  },
  {
   "cell_type": "code",
   "execution_count": 37,
   "id": "d80d88ab",
   "metadata": {},
   "outputs": [
    {
     "data": {
      "text/plain": [
       "<AxesSubplot:>"
      ]
     },
     "execution_count": 37,
     "metadata": {},
     "output_type": "execute_result"
    },
    {
     "data": {
      "image/png": "[encoded data removed]",
      "text/plain": [
       "<Figure size 432x288 with 1 Axes>"
      ]
     },
     "metadata": {
      "needs_background": "light"
     },
     "output_type": "display_data"
    }
   ],
   "source": [
    "#checking the outliers by ploting boxplot\n",
    "#Plotting boxplot for checking outliers\n",
    "df['Pclass'].plot.box()\n",
    "\n",
    "\n"
   ]
  },
  {
   "cell_type": "code",
   "execution_count": 38,
   "id": "cdbef796",
   "metadata": {},
   "outputs": [
    {
     "data": {
      "text/plain": [
       "<AxesSubplot:>"
      ]
     },
     "execution_count": 38,
     "metadata": {},
     "output_type": "execute_result"
    },
    {
     "data": {
      "image/png": "[encoded data removed]",
      "text/plain": [
       "<Figure size 432x288 with 1 Axes>"
      ]
     },
     "metadata": {
      "needs_background": "light"
     },
     "output_type": "display_data"
    }
   ],
   "source": [
    "df['SibSp'].plot.box()\n"
   ]
  },
  {
   "cell_type": "code",
   "execution_count": 39,
   "id": "7299fe0e",
   "metadata": {},
   "outputs": [
    {
     "data": {
      "text/plain": [
       "<AxesSubplot:>"
      ]
     },
     "execution_count": 39,
     "metadata": {},
     "output_type": "execute_result"
    },
    {
     "data": {
      "image/png": "[encoded data removed]",
      "text/plain": [
       "<Figure size 432x288 with 1 Axes>"
      ]
     },
     "metadata": {
      "needs_background": "light"
     },
     "output_type": "display_data"
    }
   ],
   "source": [
    "df['Parch'].plot.box()\n"
   ]
  },
  {
   "cell_type": "code",
   "execution_count": 40,
   "id": "54e33abc",
   "metadata": {},
   "outputs": [
    {
     "data": {
      "text/plain": [
       "<AxesSubplot:>"
      ]
     },
     "execution_count": 40,
     "metadata": {},
     "output_type": "execute_result"
    },
    {
     "data": {
      "image/png": "[encoded data removed]",
      "text/plain": [
       "<Figure size 432x288 with 1 Axes>"
      ]
     },
     "metadata": {
      "needs_background": "light"
     },
     "output_type": "display_data"
    }
   ],
   "source": [
    "df['Fare'].plot.box()\n"
   ]
  },
  {
   "cell_type": "code",
   "execution_count": 41,
   "id": "b322bfbf",
   "metadata": {},
   "outputs": [
    {
     "data": {
      "text/plain": [
       "<AxesSubplot:>"
      ]
     },
     "execution_count": 41,
     "metadata": {},
     "output_type": "execute_result"
    },
    {
     "data": {
      "image/png": "[encoded data removed]",
      "text/plain": [
       "<Figure size 432x288 with 1 Axes>"
      ]
     },
     "metadata": {
      "needs_background": "light"
     },
     "output_type": "display_data"
    }
   ],
   "source": [
    "df['Embarked'].plot.box()"
   ]
  },
  {
   "cell_type": "markdown",
   "id": "c46f02a0",
   "metadata": {},
   "source": [
    "Now we find out the outliers which are present in the boxplot"
   ]
  },
  {
   "cell_type": "code",
   "execution_count": 42,
   "id": "34046f07",
   "metadata": {},
   "outputs": [],
   "source": [
    "#Remove the outliers through power transform\n",
    "from sklearn.preprocessing import power_transform\n",
    "x_new = power_transform(x)\n",
    "x = pd.DataFrame(x_new,columns=x.columns)"
   ]
  },
  {
   "cell_type": "code",
   "execution_count": 43,
   "id": "f1b968f1",
   "metadata": {},
   "outputs": [
    {
     "data": {
      "text/plain": [
       "<bound method NDFrame._add_numeric_operations.<locals>.skew of        Pclass       Sex       Age     SibSp     Parch      Fare  Embarked\n",
       "0    0.863973 -0.737695 -0.556267  1.373636 -0.560253 -0.878820 -0.615473\n",
       "1   -1.459129  1.355574  0.657269  1.373636 -0.560253  1.336651  1.578373\n",
       "2    0.863973  1.355574 -0.241577 -0.679850 -0.560253 -0.790065 -0.615473\n",
       "3   -1.459129  1.355574  0.437923  1.373636 -0.560253  1.067352 -0.615473\n",
       "4    0.863973 -0.737695  0.437923 -0.679850 -0.560253 -0.774439 -0.615473\n",
       "..        ...       ...       ...       ...       ...       ...       ...\n",
       "886 -0.592604 -0.737695 -0.164262 -0.679850 -0.560253 -0.294907 -0.615473\n",
       "887 -1.459129  1.355574 -0.798775 -0.679850 -0.560253  0.527906 -0.615473\n",
       "888  0.863973  1.355574  0.042001  1.373636  1.846856  0.288885 -0.615473\n",
       "889 -1.459129 -0.737695 -0.241577 -0.679850 -0.560253  0.527906  1.578373\n",
       "890  0.863973 -0.737695  0.215254 -0.679850 -0.560253 -0.812349  1.719856\n",
       "\n",
       "[891 rows x 7 columns]>"
      ]
     },
     "execution_count": 43,
     "metadata": {},
     "output_type": "execute_result"
    }
   ],
   "source": [
    "x.skew"
   ]
  },
  {
   "cell_type": "code",
   "execution_count": 44,
   "id": "d862015e",
   "metadata": {},
   "outputs": [
    {
     "data": {
      "text/plain": [
       "Pclass     -0.441438\n",
       "Sex         0.618921\n",
       "Age         0.064420\n",
       "SibSp       0.808608\n",
       "Parch       1.228795\n",
       "Fare       -0.040329\n",
       "Embarked    1.013716\n",
       "dtype: float64"
      ]
     },
     "execution_count": 44,
     "metadata": {},
     "output_type": "execute_result"
    }
   ],
   "source": [
    "x.skew()"
   ]
  },
  {
   "cell_type": "markdown",
   "id": "d5518ba0",
   "metadata": {},
   "source": [
    "More outliers are removed\n"
   ]
  },
  {
   "cell_type": "code",
   "execution_count": 46,
   "id": "b3335c77",
   "metadata": {},
   "outputs": [
    {
     "name": "stdout",
     "output_type": "stream",
     "text": [
      "<class 'pandas.core.frame.DataFrame'>\n",
      "RangeIndex: 891 entries, 0 to 890\n",
      "Data columns (total 11 columns):\n",
      " #   Column       Non-Null Count  Dtype  \n",
      "---  ------       --------------  -----  \n",
      " 0   PassengerId  891 non-null    int64  \n",
      " 1   Survived     891 non-null    int64  \n",
      " 2   Pclass       891 non-null    int64  \n",
      " 3   Name         891 non-null    object \n",
      " 4   Sex          891 non-null    int64  \n",
      " 5   Age          891 non-null    float64\n",
      " 6   SibSp        891 non-null    int64  \n",
      " 7   Parch        891 non-null    int64  \n",
      " 8   Ticket       891 non-null    object \n",
      " 9   Fare         891 non-null    float64\n",
      " 10  Embarked     891 non-null    int64  \n",
      "dtypes: float64(2), int64(7), object(2)\n",
      "memory usage: 76.7+ KB\n"
     ]
    }
   ],
   "source": [
    "df.info()"
   ]
  },
  {
   "cell_type": "code",
   "execution_count": 47,
   "id": "a8324214",
   "metadata": {},
   "outputs": [],
   "source": [
    "from sklearn.model_selection import train_test_split\n"
   ]
  },
  {
   "cell_type": "code",
   "execution_count": 48,
   "id": "0179c786",
   "metadata": {},
   "outputs": [],
   "source": [
    "#splittting the dataset\n",
    "x_train,x_test,y_train,y_test=train_test_split(x,y,test_size=.20,random_state=0)"
   ]
  },
  {
   "cell_type": "code",
   "execution_count": 49,
   "id": "5cad1f9c",
   "metadata": {},
   "outputs": [
    {
     "data": {
      "text/plain": [
       "((891, 7), (712, 7), (179, 7))"
      ]
     },
     "execution_count": 49,
     "metadata": {},
     "output_type": "execute_result"
    }
   ],
   "source": [
    "x.shape,x_train.shape,x_test.shape"
   ]
  },
  {
   "cell_type": "code",
   "execution_count": 50,
   "id": "14d2dd74",
   "metadata": {},
   "outputs": [],
   "source": [
    "from sklearn.linear_model import LogisticRegression\n",
    "from sklearn.neighbors import KNeighborsClassifier\n",
    "from sklearn.ensemble import RandomForestClassifier\n",
    "from sklearn.tree import DecisionTreeClassifier\n",
    "from sklearn.metrics import classification_report,confusion_matrix,accuracy_score,roc_auc_score,roc_curve\n",
    "from sklearn.model_selection import cross_val_score\n",
    "\n",
    "\n",
    "\n"
   ]
  },
  {
   "cell_type": "code",
   "execution_count": 51,
   "id": "577abea4",
   "metadata": {},
   "outputs": [
    {
     "name": "stdout",
     "output_type": "stream",
     "text": [
      "              precision    recall  f1-score   support\n",
      "\n",
      "           0       0.86      0.92      0.89       439\n",
      "           1       0.86      0.76      0.81       273\n",
      "\n",
      "    accuracy                           0.86       712\n",
      "   macro avg       0.86      0.84      0.85       712\n",
      "weighted avg       0.86      0.86      0.86       712\n",
      "\n",
      "[[405  34]\n",
      " [ 66 207]]\n",
      "              precision    recall  f1-score   support\n",
      "\n",
      "           0       0.82      0.90      0.86       110\n",
      "           1       0.81      0.70      0.75        69\n",
      "\n",
      "    accuracy                           0.82       179\n",
      "   macro avg       0.82      0.80      0.81       179\n",
      "weighted avg       0.82      0.82      0.82       179\n",
      "\n",
      "[[99 11]\n",
      " [21 48]]\n"
     ]
    }
   ],
   "source": [
    "#Train result\n",
    "KNN=KNeighborsClassifier()\n",
    "KNN.fit(x_train,y_train)\n",
    "y_pred=KNN.predict(x_train)\n",
    "accuracy = classification_report(y_train,y_pred)\n",
    "print(accuracy)\n",
    "print(confusion_matrix(y_train,y_pred))\n",
    "\n",
    "KNN=KNeighborsClassifier()\n",
    "KNN.fit(x_test,y_test)\n",
    "y_pred=KNN.predict(x_test)\n",
    "accuracy=classification_report(y_test,y_pred)\n",
    "print(accuracy)\n",
    "print(confusion_matrix(y_test,y_pred))"
   ]
  },
  {
   "cell_type": "code",
   "execution_count": 52,
   "id": "713be25d",
   "metadata": {},
   "outputs": [
    {
     "data": {
      "image/png": "[encoded data removed]",
      "text/plain": [
       "<Figure size 432x288 with 1 Axes>"
      ]
     },
     "metadata": {
      "needs_background": "light"
     },
     "output_type": "display_data"
    },
    {
     "name": "stdout",
     "output_type": "stream",
     "text": [
      "The Score for the Roc curve is : 79.78%\n"
     ]
    }
   ],
   "source": [
    "#roc_curve plot to check the score of knn\n",
    "fpr,tpr,_=roc_curve(y_test,y_pred)\n",
    "auc_score=roc_auc_score(y_test,y_pred)\n",
    "plt.plot(fpr,tpr,label='auc='+str(auc_score))\n",
    "plt.box(True)\n",
    "plt.title(\"Roc Curve KNN\")\n",
    "plt.xlabel(\"Falsee Positive Rate\")\n",
    "plt.ylabel(\"True Positive Rate\")\n",
    "plt.legend(loc=4)\n",
    "plt.grid(True)\n",
    "plt.show()\n",
    "print('The Score for the Roc curve is : {}%'.format(round(auc_score,4)*100))\n",
    "\n",
    "\n"
   ]
  },
  {
   "cell_type": "code",
   "execution_count": 53,
   "id": "a6b30e6b",
   "metadata": {},
   "outputs": [
    {
     "name": "stdout",
     "output_type": "stream",
     "text": [
      "              precision    recall  f1-score   support\n",
      "\n",
      "           0       0.98      0.99      0.99       439\n",
      "           1       0.99      0.96      0.98       273\n",
      "\n",
      "    accuracy                           0.98       712\n",
      "   macro avg       0.98      0.98      0.98       712\n",
      "weighted avg       0.98      0.98      0.98       712\n",
      "\n",
      "[[436   3]\n",
      " [ 10 263]]\n",
      "              precision    recall  f1-score   support\n",
      "\n",
      "           0       0.82      0.90      0.86       110\n",
      "           1       0.81      0.70      0.75        69\n",
      "\n",
      "    accuracy                           0.82       179\n",
      "   macro avg       0.82      0.80      0.81       179\n",
      "weighted avg       0.82      0.82      0.82       179\n",
      "\n",
      "[[99 11]\n",
      " [21 48]]\n"
     ]
    }
   ],
   "source": [
    "#Train result\n",
    "RFC = RandomForestClassifier()\n",
    "RFC.fit(x_train, y_train)\n",
    "y_pred =RFC .predict(x_train)\n",
    "accuracy = classification_report(y_train, y_pred)\n",
    "print(accuracy)\n",
    "print(confusion_matrix(y_train, y_pred))\n",
    "\n",
    "\n",
    "#Test result\n",
    "RFC = RandomForestClassifier()\n",
    "RFC.fit(x_test, y_test)\n",
    "y_pred =KNN .predict(x_test)\n",
    "accuracy = classification_report(y_test, y_pred)\n",
    "print(accuracy)\n",
    "print(confusion_matrix(y_test, y_pred))"
   ]
  },
  {
   "cell_type": "code",
   "execution_count": 54,
   "id": "a6a8b5f6",
   "metadata": {},
   "outputs": [
    {
     "data": {
      "image/png": "[encoded data removed]",
      "text/plain": [
       "<Figure size 432x288 with 1 Axes>"
      ]
     },
     "metadata": {
      "needs_background": "light"
     },
     "output_type": "display_data"
    },
    {
     "name": "stdout",
     "output_type": "stream",
     "text": [
      "The Score for the ROC Curve is : 79.78%\n"
     ]
    }
   ],
   "source": [
    "\n",
    "#roc_curve plot to check the socre of RFC\n",
    "fpr, tpr, _= roc_curve(y_test, y_pred)\n",
    "auc_score = roc_auc_score(y_test, y_pred)\n",
    "plt.plot(fpr, tpr, label=\"auc=\"+str(auc_score))\n",
    "plt.box(True)\n",
    "plt.title('ROC CURVE RFC')\n",
    "plt.xlabel('False Positive Rate')\n",
    "plt.ylabel('True Positive Rate')\n",
    "plt.legend(loc=4)\n",
    "plt.grid(True)\n",
    "plt.show()\n",
    "print('The Score for the ROC Curve is : {}%'.format(round(auc_score,4)*100))"
   ]
  },
  {
   "cell_type": "code",
   "execution_count": 55,
   "id": "44aa0053",
   "metadata": {},
   "outputs": [
    {
     "name": "stdout",
     "output_type": "stream",
     "text": [
      "              precision    recall  f1-score   support\n",
      "\n",
      "           0       0.97      1.00      0.99       439\n",
      "           1       1.00      0.95      0.98       273\n",
      "\n",
      "    accuracy                           0.98       712\n",
      "   macro avg       0.99      0.98      0.98       712\n",
      "weighted avg       0.98      0.98      0.98       712\n",
      "\n",
      "[[439   0]\n",
      " [ 13 260]]\n",
      "              precision    recall  f1-score   support\n",
      "\n",
      "           0       1.00      1.00      1.00       110\n",
      "           1       1.00      1.00      1.00        69\n",
      "\n",
      "    accuracy                           1.00       179\n",
      "   macro avg       1.00      1.00      1.00       179\n",
      "weighted avg       1.00      1.00      1.00       179\n",
      "\n",
      "[[110   0]\n",
      " [  0  69]]\n"
     ]
    }
   ],
   "source": [
    "#Train result\n",
    "DTC = DecisionTreeClassifier()\n",
    "DTC.fit(x_train, y_train)\n",
    "y_pred =DTC .predict(x_train)\n",
    "accuracy = classification_report(y_train, y_pred)\n",
    "print(accuracy)\n",
    "print(confusion_matrix(y_train, y_pred))\n",
    "\n",
    "\n",
    "#Test result\n",
    "DTC = RandomForestClassifier()\n",
    "DTC.fit(x_test, y_test)\n",
    "y_pred =DTC .predict(x_test)\n",
    "accuracy = classification_report(y_test, y_pred)\n",
    "print(accuracy)\n",
    "print(confusion_matrix(y_test, y_pred))"
   ]
  },
  {
   "cell_type": "code",
   "execution_count": 56,
   "id": "e6ea40eb",
   "metadata": {},
   "outputs": [
    {
     "data": {
      "image/png": "[encoded data removed]",
      "text/plain": [
       "<Figure size 432x288 with 1 Axes>"
      ]
     },
     "metadata": {
      "needs_background": "light"
     },
     "output_type": "display_data"
    },
    {
     "name": "stdout",
     "output_type": "stream",
     "text": [
      "The Score for the ROC Curve is : 100.0%\n"
     ]
    }
   ],
   "source": [
    "#roc_curve plot to check the socre of RFC\n",
    "fpr, tpr, _= roc_curve(y_test, y_pred)\n",
    "auc_score = roc_auc_score(y_test, y_pred)\n",
    "plt.plot(fpr, tpr, label=\"auc=\"+str(auc_score))\n",
    "plt.box(True)\n",
    "plt.title('ROC CURVE DTC')\n",
    "plt.xlabel('False Positive Rate')\n",
    "plt.ylabel('True Positive Rate')\n",
    "plt.legend(loc=4)\n",
    "plt.grid(True)\n",
    "plt.show()\n",
    "print('The Score for the ROC Curve is : {}%'.format(round(auc_score,4)*100))"
   ]
  },
  {
   "cell_type": "code",
   "execution_count": 57,
   "id": "569c4246",
   "metadata": {},
   "outputs": [
    {
     "name": "stdout",
     "output_type": "stream",
     "text": [
      "              precision    recall  f1-score   support\n",
      "\n",
      "           0       0.82      0.87      0.85       439\n",
      "           1       0.77      0.70      0.73       273\n",
      "\n",
      "    accuracy                           0.80       712\n",
      "   macro avg       0.80      0.78      0.79       712\n",
      "weighted avg       0.80      0.80      0.80       712\n",
      "\n",
      "[[382  57]\n",
      " [ 83 190]]\n",
      "              precision    recall  f1-score   support\n",
      "\n",
      "           0       1.00      1.00      1.00       110\n",
      "           1       1.00      1.00      1.00        69\n",
      "\n",
      "    accuracy                           1.00       179\n",
      "   macro avg       1.00      1.00      1.00       179\n",
      "weighted avg       1.00      1.00      1.00       179\n",
      "\n",
      "[[110   0]\n",
      " [  0  69]]\n"
     ]
    }
   ],
   "source": [
    "#Train result\n",
    "LR = LogisticRegression()\n",
    "LR.fit(x_train, y_train)\n",
    "y_pred =LR .predict(x_train)\n",
    "accuracy = classification_report(y_train, y_pred)\n",
    "print(accuracy)\n",
    "print(confusion_matrix(y_train, y_pred))\n",
    "\n",
    "\n",
    "#Test result\n",
    "LR = LogisticRegression()\n",
    "LR.fit(x_test, y_test)\n",
    "y_pred =DTC .predict(x_test)\n",
    "accuracy = classification_report(y_test, y_pred)\n",
    "print(accuracy)\n",
    "print(confusion_matrix(y_test, y_pred))"
   ]
  },
  {
   "cell_type": "code",
   "execution_count": 58,
   "id": "5192b705",
   "metadata": {},
   "outputs": [
    {
     "data": {
      "image/png": "[encoded data removed]",
      "text/plain": [
       "<Figure size 432x288 with 1 Axes>"
      ]
     },
     "metadata": {
      "needs_background": "light"
     },
     "output_type": "display_data"
    },
    {
     "name": "stdout",
     "output_type": "stream",
     "text": [
      "The Score for the ROC Curve is : 100.0%\n"
     ]
    }
   ],
   "source": [
    "#roc_curve plot to check the socre of RFC\n",
    "fpr, tpr, _= roc_curve(y_test, y_pred)\n",
    "auc_score = roc_auc_score(y_test, y_pred)\n",
    "plt.plot(fpr, tpr, label=\"auc=\"+str(auc_score))\n",
    "plt.box(True)\n",
    "plt.title('ROC CURVE RFC')\n",
    "plt.xlabel('False Positive Rate')\n",
    "plt.ylabel('True Positive Rate')\n",
    "plt.legend(loc=4)\n",
    "plt.grid(True)\n",
    "plt.show()\n",
    "print('The Score for the ROC Curve is : {}%'.format(round(auc_score,4)*100))"
   ]
  },
  {
   "cell_type": "code",
   "execution_count": 59,
   "id": "39cf40e2",
   "metadata": {},
   "outputs": [
    {
     "name": "stdout",
     "output_type": "stream",
     "text": [
      "0.8182035026049841\n"
     ]
    }
   ],
   "source": [
    "print(cross_val_score(KNN,x,y,cv=5).mean())"
   ]
  },
  {
   "cell_type": "code",
   "execution_count": 60,
   "id": "3784562d",
   "metadata": {},
   "outputs": [
    {
     "name": "stdout",
     "output_type": "stream",
     "text": [
      "0.8114682066411399\n"
     ]
    }
   ],
   "source": [
    "print(cross_val_score(RFC,x,y,cv=5).mean())"
   ]
  },
  {
   "cell_type": "code",
   "execution_count": 61,
   "id": "646b3646",
   "metadata": {},
   "outputs": [
    {
     "name": "stdout",
     "output_type": "stream",
     "text": [
      "0.8103383340656581\n"
     ]
    }
   ],
   "source": [
    "print(cross_val_score(DTC,x,y,cv=5).mean())"
   ]
  },
  {
   "cell_type": "code",
   "execution_count": 62,
   "id": "958c9a14",
   "metadata": {},
   "outputs": [
    {
     "name": "stdout",
     "output_type": "stream",
     "text": [
      "0.7923859142552256\n"
     ]
    }
   ],
   "source": [
    "print(cross_val_score(LR,x,y,cv=5).mean())"
   ]
  },
  {
   "cell_type": "code",
   "execution_count": 63,
   "id": "f96ee535",
   "metadata": {},
   "outputs": [],
   "source": [
    "from sklearn.model_selection import GridSearchCV\n",
    "from scipy.stats import randint"
   ]
  },
  {
   "cell_type": "code",
   "execution_count": 64,
   "id": "f48fc436",
   "metadata": {},
   "outputs": [],
   "source": [
    "params = parameters={'max_depth':list(range(200,400,50)),\n",
    "            'n_estimators':list(range(10,120,20)),\n",
    "            'max_features': ['auto', 'sqrt', 'log2'],      \n",
    "         }"
   ]
  },
  {
   "cell_type": "code",
   "execution_count": 65,
   "id": "fd7c8a92",
   "metadata": {},
   "outputs": [],
   "source": [
    "model=RandomForestClassifier()"
   ]
  },
  {
   "cell_type": "code",
   "execution_count": 66,
   "id": "b49c6c8e",
   "metadata": {},
   "outputs": [],
   "source": [
    "grid_clf=GridSearchCV(model,parameters,verbose=4,refit=True)"
   ]
  },
  {
   "cell_type": "code",
   "execution_count": 67,
   "id": "baa1e510",
   "metadata": {},
   "outputs": [
    {
     "name": "stdout",
     "output_type": "stream",
     "text": [
      "Fitting 5 folds for each of 72 candidates, totalling 360 fits\n",
      "[CV 1/5] END max_depth=200, max_features=auto, n_estimators=10;, score=0.804 total time=   0.0s\n",
      "[CV 2/5] END max_depth=200, max_features=auto, n_estimators=10;, score=0.832 total time=   0.0s\n",
      "[CV 3/5] END max_depth=200, max_features=auto, n_estimators=10;, score=0.782 total time=   0.0s\n",
      "[CV 4/5] END max_depth=200, max_features=auto, n_estimators=10;, score=0.768 total time=   0.0s\n",
      "[CV 5/5] END max_depth=200, max_features=auto, n_estimators=10;, score=0.824 total time=   0.0s\n",
      "[CV 1/5] END max_depth=200, max_features=auto, n_estimators=30;, score=0.783 total time=   0.0s\n",
      "[CV 2/5] END max_depth=200, max_features=auto, n_estimators=30;, score=0.818 total time=   0.0s\n",
      "[CV 3/5] END max_depth=200, max_features=auto, n_estimators=30;, score=0.775 total time=   0.0s\n",
      "[CV 4/5] END max_depth=200, max_features=auto, n_estimators=30;, score=0.754 total time=   0.0s\n",
      "[CV 5/5] END max_depth=200, max_features=auto, n_estimators=30;, score=0.817 total time=   0.0s\n",
      "[CV 1/5] END max_depth=200, max_features=auto, n_estimators=50;, score=0.783 total time=   0.0s\n",
      "[CV 2/5] END max_depth=200, max_features=auto, n_estimators=50;, score=0.804 total time=   0.0s\n",
      "[CV 3/5] END max_depth=200, max_features=auto, n_estimators=50;, score=0.789 total time=   0.0s\n",
      "[CV 4/5] END max_depth=200, max_features=auto, n_estimators=50;, score=0.761 total time=   0.0s\n",
      "[CV 5/5] END max_depth=200, max_features=auto, n_estimators=50;, score=0.810 total time=   0.0s\n",
      "[CV 1/5] END max_depth=200, max_features=auto, n_estimators=70;, score=0.769 total time=   0.0s\n",
      "[CV 2/5] END max_depth=200, max_features=auto, n_estimators=70;, score=0.818 total time=   0.0s\n",
      "[CV 3/5] END max_depth=200, max_features=auto, n_estimators=70;, score=0.796 total time=   0.0s\n",
      "[CV 4/5] END max_depth=200, max_features=auto, n_estimators=70;, score=0.768 total time=   0.0s\n",
      "[CV 5/5] END max_depth=200, max_features=auto, n_estimators=70;, score=0.824 total time=   0.0s\n",
      "[CV 1/5] END max_depth=200, max_features=auto, n_estimators=90;, score=0.783 total time=   0.0s\n",
      "[CV 2/5] END max_depth=200, max_features=auto, n_estimators=90;, score=0.804 total time=   0.0s\n",
      "[CV 3/5] END max_depth=200, max_features=auto, n_estimators=90;, score=0.789 total time=   0.0s\n",
      "[CV 4/5] END max_depth=200, max_features=auto, n_estimators=90;, score=0.761 total time=   0.0s\n",
      "[CV 5/5] END max_depth=200, max_features=auto, n_estimators=90;, score=0.803 total time=   0.0s\n",
      "[CV 1/5] END max_depth=200, max_features=auto, n_estimators=110;, score=0.783 total time=   0.0s\n",
      "[CV 2/5] END max_depth=200, max_features=auto, n_estimators=110;, score=0.804 total time=   0.1s\n",
      "[CV 3/5] END max_depth=200, max_features=auto, n_estimators=110;, score=0.803 total time=   0.0s\n",
      "[CV 4/5] END max_depth=200, max_features=auto, n_estimators=110;, score=0.768 total time=   0.1s\n",
      "[CV 5/5] END max_depth=200, max_features=auto, n_estimators=110;, score=0.838 total time=   0.0s\n",
      "[CV 1/5] END max_depth=200, max_features=sqrt, n_estimators=10;, score=0.804 total time=   0.0s\n",
      "[CV 2/5] END max_depth=200, max_features=sqrt, n_estimators=10;, score=0.811 total time=   0.0s\n",
      "[CV 3/5] END max_depth=200, max_features=sqrt, n_estimators=10;, score=0.817 total time=   0.0s\n",
      "[CV 4/5] END max_depth=200, max_features=sqrt, n_estimators=10;, score=0.761 total time=   0.0s\n",
      "[CV 5/5] END max_depth=200, max_features=sqrt, n_estimators=10;, score=0.810 total time=   0.0s\n",
      "[CV 1/5] END max_depth=200, max_features=sqrt, n_estimators=30;, score=0.783 total time=   0.0s\n",
      "[CV 2/5] END max_depth=200, max_features=sqrt, n_estimators=30;, score=0.776 total time=   0.0s\n",
      "[CV 3/5] END max_depth=200, max_features=sqrt, n_estimators=30;, score=0.803 total time=   0.0s\n",
      "[CV 4/5] END max_depth=200, max_features=sqrt, n_estimators=30;, score=0.761 total time=   0.0s\n",
      "[CV 5/5] END max_depth=200, max_features=sqrt, n_estimators=30;, score=0.810 total time=   0.0s\n",
      "[CV 1/5] END max_depth=200, max_features=sqrt, n_estimators=50;, score=0.790 total time=   0.0s\n",
      "[CV 2/5] END max_depth=200, max_features=sqrt, n_estimators=50;, score=0.811 total time=   0.0s\n",
      "[CV 3/5] END max_depth=200, max_features=sqrt, n_estimators=50;, score=0.789 total time=   0.0s\n",
      "[CV 4/5] END max_depth=200, max_features=sqrt, n_estimators=50;, score=0.761 total time=   0.0s\n",
      "[CV 5/5] END max_depth=200, max_features=sqrt, n_estimators=50;, score=0.824 total time=   0.0s\n",
      "[CV 1/5] END max_depth=200, max_features=sqrt, n_estimators=70;, score=0.790 total time=   0.0s\n",
      "[CV 2/5] END max_depth=200, max_features=sqrt, n_estimators=70;, score=0.811 total time=   0.0s\n",
      "[CV 3/5] END max_depth=200, max_features=sqrt, n_estimators=70;, score=0.803 total time=   0.0s\n",
      "[CV 4/5] END max_depth=200, max_features=sqrt, n_estimators=70;, score=0.746 total time=   0.0s\n",
      "[CV 5/5] END max_depth=200, max_features=sqrt, n_estimators=70;, score=0.838 total time=   0.0s\n",
      "[CV 1/5] END max_depth=200, max_features=sqrt, n_estimators=90;, score=0.776 total time=   0.0s\n",
      "[CV 2/5] END max_depth=200, max_features=sqrt, n_estimators=90;, score=0.804 total time=   0.0s\n",
      "[CV 3/5] END max_depth=200, max_features=sqrt, n_estimators=90;, score=0.796 total time=   0.0s\n",
      "[CV 4/5] END max_depth=200, max_features=sqrt, n_estimators=90;, score=0.761 total time=   0.0s\n",
      "[CV 5/5] END max_depth=200, max_features=sqrt, n_estimators=90;, score=0.838 total time=   0.0s\n",
      "[CV 1/5] END max_depth=200, max_features=sqrt, n_estimators=110;, score=0.776 total time=   0.0s\n",
      "[CV 2/5] END max_depth=200, max_features=sqrt, n_estimators=110;, score=0.811 total time=   0.0s\n",
      "[CV 3/5] END max_depth=200, max_features=sqrt, n_estimators=110;, score=0.803 total time=   0.0s\n",
      "[CV 4/5] END max_depth=200, max_features=sqrt, n_estimators=110;, score=0.754 total time=   0.0s\n",
      "[CV 5/5] END max_depth=200, max_features=sqrt, n_estimators=110;, score=0.845 total time=   0.0s\n",
      "[CV 1/5] END max_depth=200, max_features=log2, n_estimators=10;, score=0.797 total time=   0.0s\n",
      "[CV 2/5] END max_depth=200, max_features=log2, n_estimators=10;, score=0.797 total time=   0.0s\n",
      "[CV 3/5] END max_depth=200, max_features=log2, n_estimators=10;, score=0.817 total time=   0.0s\n",
      "[CV 4/5] END max_depth=200, max_features=log2, n_estimators=10;, score=0.768 total time=   0.0s\n",
      "[CV 5/5] END max_depth=200, max_features=log2, n_estimators=10;, score=0.817 total time=   0.0s\n",
      "[CV 1/5] END max_depth=200, max_features=log2, n_estimators=30;, score=0.797 total time=   0.0s\n",
      "[CV 2/5] END max_depth=200, max_features=log2, n_estimators=30;, score=0.804 total time=   0.0s\n",
      "[CV 3/5] END max_depth=200, max_features=log2, n_estimators=30;, score=0.782 total time=   0.0s\n",
      "[CV 4/5] END max_depth=200, max_features=log2, n_estimators=30;, score=0.761 total time=   0.0s\n",
      "[CV 5/5] END max_depth=200, max_features=log2, n_estimators=30;, score=0.845 total time=   0.0s\n",
      "[CV 1/5] END max_depth=200, max_features=log2, n_estimators=50;, score=0.783 total time=   0.0s\n",
      "[CV 2/5] END max_depth=200, max_features=log2, n_estimators=50;, score=0.797 total time=   0.0s\n",
      "[CV 3/5] END max_depth=200, max_features=log2, n_estimators=50;, score=0.796 total time=   0.0s\n",
      "[CV 4/5] END max_depth=200, max_features=log2, n_estimators=50;, score=0.754 total time=   0.0s\n",
      "[CV 5/5] END max_depth=200, max_features=log2, n_estimators=50;, score=0.838 total time=   0.0s\n",
      "[CV 1/5] END max_depth=200, max_features=log2, n_estimators=70;, score=0.783 total time=   0.0s\n",
      "[CV 2/5] END max_depth=200, max_features=log2, n_estimators=70;, score=0.811 total time=   0.0s\n",
      "[CV 3/5] END max_depth=200, max_features=log2, n_estimators=70;, score=0.789 total time=   0.0s\n",
      "[CV 4/5] END max_depth=200, max_features=log2, n_estimators=70;, score=0.761 total time=   0.0s\n",
      "[CV 5/5] END max_depth=200, max_features=log2, n_estimators=70;, score=0.838 total time=   0.0s\n",
      "[CV 1/5] END max_depth=200, max_features=log2, n_estimators=90;, score=0.790 total time=   0.0s\n",
      "[CV 2/5] END max_depth=200, max_features=log2, n_estimators=90;, score=0.797 total time=   0.0s\n",
      "[CV 3/5] END max_depth=200, max_features=log2, n_estimators=90;, score=0.810 total time=   0.0s\n",
      "[CV 4/5] END max_depth=200, max_features=log2, n_estimators=90;, score=0.761 total time=   0.0s\n",
      "[CV 5/5] END max_depth=200, max_features=log2, n_estimators=90;, score=0.845 total time=   0.0s\n",
      "[CV 1/5] END max_depth=200, max_features=log2, n_estimators=110;, score=0.790 total time=   0.0s\n"
     ]
    },
    {
     "name": "stdout",
     "output_type": "stream",
     "text": [
      "[CV 2/5] END max_depth=200, max_features=log2, n_estimators=110;, score=0.811 total time=   0.0s\n",
      "[CV 3/5] END max_depth=200, max_features=log2, n_estimators=110;, score=0.796 total time=   0.0s\n",
      "[CV 4/5] END max_depth=200, max_features=log2, n_estimators=110;, score=0.768 total time=   0.0s\n",
      "[CV 5/5] END max_depth=200, max_features=log2, n_estimators=110;, score=0.845 total time=   0.0s\n",
      "[CV 1/5] END max_depth=250, max_features=auto, n_estimators=10;, score=0.790 total time=   0.0s\n",
      "[CV 2/5] END max_depth=250, max_features=auto, n_estimators=10;, score=0.797 total time=   0.0s\n",
      "[CV 3/5] END max_depth=250, max_features=auto, n_estimators=10;, score=0.838 total time=   0.0s\n",
      "[CV 4/5] END max_depth=250, max_features=auto, n_estimators=10;, score=0.746 total time=   0.0s\n",
      "[CV 5/5] END max_depth=250, max_features=auto, n_estimators=10;, score=0.831 total time=   0.0s\n",
      "[CV 1/5] END max_depth=250, max_features=auto, n_estimators=30;, score=0.776 total time=   0.0s\n",
      "[CV 2/5] END max_depth=250, max_features=auto, n_estimators=30;, score=0.804 total time=   0.0s\n",
      "[CV 3/5] END max_depth=250, max_features=auto, n_estimators=30;, score=0.796 total time=   0.0s\n",
      "[CV 4/5] END max_depth=250, max_features=auto, n_estimators=30;, score=0.754 total time=   0.0s\n",
      "[CV 5/5] END max_depth=250, max_features=auto, n_estimators=30;, score=0.838 total time=   0.0s\n",
      "[CV 1/5] END max_depth=250, max_features=auto, n_estimators=50;, score=0.776 total time=   0.0s\n",
      "[CV 2/5] END max_depth=250, max_features=auto, n_estimators=50;, score=0.811 total time=   0.0s\n",
      "[CV 3/5] END max_depth=250, max_features=auto, n_estimators=50;, score=0.803 total time=   0.0s\n",
      "[CV 4/5] END max_depth=250, max_features=auto, n_estimators=50;, score=0.775 total time=   0.0s\n",
      "[CV 5/5] END max_depth=250, max_features=auto, n_estimators=50;, score=0.824 total time=   0.0s\n",
      "[CV 1/5] END max_depth=250, max_features=auto, n_estimators=70;, score=0.769 total time=   0.0s\n",
      "[CV 2/5] END max_depth=250, max_features=auto, n_estimators=70;, score=0.797 total time=   0.0s\n",
      "[CV 3/5] END max_depth=250, max_features=auto, n_estimators=70;, score=0.803 total time=   0.0s\n",
      "[CV 4/5] END max_depth=250, max_features=auto, n_estimators=70;, score=0.775 total time=   0.0s\n",
      "[CV 5/5] END max_depth=250, max_features=auto, n_estimators=70;, score=0.831 total time=   0.0s\n",
      "[CV 1/5] END max_depth=250, max_features=auto, n_estimators=90;, score=0.762 total time=   0.0s\n",
      "[CV 2/5] END max_depth=250, max_features=auto, n_estimators=90;, score=0.804 total time=   0.0s\n",
      "[CV 3/5] END max_depth=250, max_features=auto, n_estimators=90;, score=0.810 total time=   0.0s\n",
      "[CV 4/5] END max_depth=250, max_features=auto, n_estimators=90;, score=0.761 total time=   0.0s\n",
      "[CV 5/5] END max_depth=250, max_features=auto, n_estimators=90;, score=0.824 total time=   0.0s\n",
      "[CV 1/5] END max_depth=250, max_features=auto, n_estimators=110;, score=0.776 total time=   0.0s\n",
      "[CV 2/5] END max_depth=250, max_features=auto, n_estimators=110;, score=0.804 total time=   0.0s\n",
      "[CV 3/5] END max_depth=250, max_features=auto, n_estimators=110;, score=0.796 total time=   0.0s\n",
      "[CV 4/5] END max_depth=250, max_features=auto, n_estimators=110;, score=0.761 total time=   0.0s\n",
      "[CV 5/5] END max_depth=250, max_features=auto, n_estimators=110;, score=0.838 total time=   0.0s\n",
      "[CV 1/5] END max_depth=250, max_features=sqrt, n_estimators=10;, score=0.776 total time=   0.0s\n",
      "[CV 2/5] END max_depth=250, max_features=sqrt, n_estimators=10;, score=0.825 total time=   0.0s\n",
      "[CV 3/5] END max_depth=250, max_features=sqrt, n_estimators=10;, score=0.803 total time=   0.0s\n",
      "[CV 4/5] END max_depth=250, max_features=sqrt, n_estimators=10;, score=0.768 total time=   0.0s\n",
      "[CV 5/5] END max_depth=250, max_features=sqrt, n_estimators=10;, score=0.803 total time=   0.0s\n",
      "[CV 1/5] END max_depth=250, max_features=sqrt, n_estimators=30;, score=0.790 total time=   0.0s\n",
      "[CV 2/5] END max_depth=250, max_features=sqrt, n_estimators=30;, score=0.804 total time=   0.0s\n",
      "[CV 3/5] END max_depth=250, max_features=sqrt, n_estimators=30;, score=0.803 total time=   0.0s\n",
      "[CV 4/5] END max_depth=250, max_features=sqrt, n_estimators=30;, score=0.768 total time=   0.0s\n",
      "[CV 5/5] END max_depth=250, max_features=sqrt, n_estimators=30;, score=0.803 total time=   0.0s\n",
      "[CV 1/5] END max_depth=250, max_features=sqrt, n_estimators=50;, score=0.804 total time=   0.0s\n",
      "[CV 2/5] END max_depth=250, max_features=sqrt, n_estimators=50;, score=0.804 total time=   0.0s\n",
      "[CV 3/5] END max_depth=250, max_features=sqrt, n_estimators=50;, score=0.810 total time=   0.0s\n",
      "[CV 4/5] END max_depth=250, max_features=sqrt, n_estimators=50;, score=0.768 total time=   0.0s\n",
      "[CV 5/5] END max_depth=250, max_features=sqrt, n_estimators=50;, score=0.831 total time=   0.0s\n",
      "[CV 1/5] END max_depth=250, max_features=sqrt, n_estimators=70;, score=0.783 total time=   0.0s\n",
      "[CV 2/5] END max_depth=250, max_features=sqrt, n_estimators=70;, score=0.797 total time=   0.0s\n",
      "[CV 3/5] END max_depth=250, max_features=sqrt, n_estimators=70;, score=0.810 total time=   0.0s\n",
      "[CV 4/5] END max_depth=250, max_features=sqrt, n_estimators=70;, score=0.746 total time=   0.0s\n",
      "[CV 5/5] END max_depth=250, max_features=sqrt, n_estimators=70;, score=0.831 total time=   0.0s\n",
      "[CV 1/5] END max_depth=250, max_features=sqrt, n_estimators=90;, score=0.783 total time=   0.0s\n",
      "[CV 2/5] END max_depth=250, max_features=sqrt, n_estimators=90;, score=0.804 total time=   0.0s\n",
      "[CV 3/5] END max_depth=250, max_features=sqrt, n_estimators=90;, score=0.803 total time=   0.0s\n",
      "[CV 4/5] END max_depth=250, max_features=sqrt, n_estimators=90;, score=0.768 total time=   0.0s\n",
      "[CV 5/5] END max_depth=250, max_features=sqrt, n_estimators=90;, score=0.838 total time=   0.0s\n",
      "[CV 1/5] END max_depth=250, max_features=sqrt, n_estimators=110;, score=0.783 total time=   0.0s\n",
      "[CV 2/5] END max_depth=250, max_features=sqrt, n_estimators=110;, score=0.818 total time=   0.0s\n",
      "[CV 3/5] END max_depth=250, max_features=sqrt, n_estimators=110;, score=0.796 total time=   0.0s\n",
      "[CV 4/5] END max_depth=250, max_features=sqrt, n_estimators=110;, score=0.761 total time=   0.0s\n",
      "[CV 5/5] END max_depth=250, max_features=sqrt, n_estimators=110;, score=0.831 total time=   0.1s\n",
      "[CV 1/5] END max_depth=250, max_features=log2, n_estimators=10;, score=0.762 total time=   0.0s\n",
      "[CV 2/5] END max_depth=250, max_features=log2, n_estimators=10;, score=0.790 total time=   0.0s\n",
      "[CV 3/5] END max_depth=250, max_features=log2, n_estimators=10;, score=0.775 total time=   0.0s\n",
      "[CV 4/5] END max_depth=250, max_features=log2, n_estimators=10;, score=0.775 total time=   0.0s\n",
      "[CV 5/5] END max_depth=250, max_features=log2, n_estimators=10;, score=0.782 total time=   0.0s\n",
      "[CV 1/5] END max_depth=250, max_features=log2, n_estimators=30;, score=0.804 total time=   0.0s\n",
      "[CV 2/5] END max_depth=250, max_features=log2, n_estimators=30;, score=0.804 total time=   0.0s\n",
      "[CV 3/5] END max_depth=250, max_features=log2, n_estimators=30;, score=0.803 total time=   0.0s\n",
      "[CV 4/5] END max_depth=250, max_features=log2, n_estimators=30;, score=0.761 total time=   0.0s\n",
      "[CV 5/5] END max_depth=250, max_features=log2, n_estimators=30;, score=0.810 total time=   0.0s\n",
      "[CV 1/5] END max_depth=250, max_features=log2, n_estimators=50;, score=0.804 total time=   0.0s\n",
      "[CV 2/5] END max_depth=250, max_features=log2, n_estimators=50;, score=0.818 total time=   0.0s\n",
      "[CV 3/5] END max_depth=250, max_features=log2, n_estimators=50;, score=0.803 total time=   0.0s\n",
      "[CV 4/5] END max_depth=250, max_features=log2, n_estimators=50;, score=0.754 total time=   0.0s\n",
      "[CV 5/5] END max_depth=250, max_features=log2, n_estimators=50;, score=0.831 total time=   0.0s\n",
      "[CV 1/5] END max_depth=250, max_features=log2, n_estimators=70;, score=0.762 total time=   0.0s\n",
      "[CV 2/5] END max_depth=250, max_features=log2, n_estimators=70;, score=0.825 total time=   0.0s\n",
      "[CV 3/5] END max_depth=250, max_features=log2, n_estimators=70;, score=0.796 total time=   0.0s\n",
      "[CV 4/5] END max_depth=250, max_features=log2, n_estimators=70;, score=0.768 total time=   0.0s\n",
      "[CV 5/5] END max_depth=250, max_features=log2, n_estimators=70;, score=0.831 total time=   0.0s\n",
      "[CV 1/5] END max_depth=250, max_features=log2, n_estimators=90;, score=0.783 total time=   0.0s\n",
      "[CV 2/5] END max_depth=250, max_features=log2, n_estimators=90;, score=0.811 total time=   0.0s\n",
      "[CV 3/5] END max_depth=250, max_features=log2, n_estimators=90;, score=0.796 total time=   0.0s\n"
     ]
    },
    {
     "name": "stdout",
     "output_type": "stream",
     "text": [
      "[CV 4/5] END max_depth=250, max_features=log2, n_estimators=90;, score=0.775 total time=   0.0s\n",
      "[CV 5/5] END max_depth=250, max_features=log2, n_estimators=90;, score=0.831 total time=   0.0s\n",
      "[CV 1/5] END max_depth=250, max_features=log2, n_estimators=110;, score=0.783 total time=   0.1s\n",
      "[CV 2/5] END max_depth=250, max_features=log2, n_estimators=110;, score=0.811 total time=   0.0s\n",
      "[CV 3/5] END max_depth=250, max_features=log2, n_estimators=110;, score=0.796 total time=   0.1s\n",
      "[CV 4/5] END max_depth=250, max_features=log2, n_estimators=110;, score=0.754 total time=   0.1s\n",
      "[CV 5/5] END max_depth=250, max_features=log2, n_estimators=110;, score=0.838 total time=   0.1s\n",
      "[CV 1/5] END max_depth=300, max_features=auto, n_estimators=10;, score=0.797 total time=   0.0s\n",
      "[CV 2/5] END max_depth=300, max_features=auto, n_estimators=10;, score=0.776 total time=   0.0s\n",
      "[CV 3/5] END max_depth=300, max_features=auto, n_estimators=10;, score=0.810 total time=   0.0s\n",
      "[CV 4/5] END max_depth=300, max_features=auto, n_estimators=10;, score=0.754 total time=   0.0s\n",
      "[CV 5/5] END max_depth=300, max_features=auto, n_estimators=10;, score=0.810 total time=   0.0s\n",
      "[CV 1/5] END max_depth=300, max_features=auto, n_estimators=30;, score=0.797 total time=   0.0s\n",
      "[CV 2/5] END max_depth=300, max_features=auto, n_estimators=30;, score=0.811 total time=   0.0s\n",
      "[CV 3/5] END max_depth=300, max_features=auto, n_estimators=30;, score=0.789 total time=   0.0s\n",
      "[CV 4/5] END max_depth=300, max_features=auto, n_estimators=30;, score=0.754 total time=   0.0s\n",
      "[CV 5/5] END max_depth=300, max_features=auto, n_estimators=30;, score=0.838 total time=   0.0s\n",
      "[CV 1/5] END max_depth=300, max_features=auto, n_estimators=50;, score=0.790 total time=   0.0s\n",
      "[CV 2/5] END max_depth=300, max_features=auto, n_estimators=50;, score=0.811 total time=   0.0s\n",
      "[CV 3/5] END max_depth=300, max_features=auto, n_estimators=50;, score=0.803 total time=   0.0s\n",
      "[CV 4/5] END max_depth=300, max_features=auto, n_estimators=50;, score=0.775 total time=   0.0s\n",
      "[CV 5/5] END max_depth=300, max_features=auto, n_estimators=50;, score=0.817 total time=   0.0s\n",
      "[CV 1/5] END max_depth=300, max_features=auto, n_estimators=70;, score=0.811 total time=   0.0s\n",
      "[CV 2/5] END max_depth=300, max_features=auto, n_estimators=70;, score=0.811 total time=   0.0s\n",
      "[CV 3/5] END max_depth=300, max_features=auto, n_estimators=70;, score=0.796 total time=   0.0s\n",
      "[CV 4/5] END max_depth=300, max_features=auto, n_estimators=70;, score=0.761 total time=   0.0s\n",
      "[CV 5/5] END max_depth=300, max_features=auto, n_estimators=70;, score=0.838 total time=   0.0s\n",
      "[CV 1/5] END max_depth=300, max_features=auto, n_estimators=90;, score=0.783 total time=   0.0s\n",
      "[CV 2/5] END max_depth=300, max_features=auto, n_estimators=90;, score=0.811 total time=   0.0s\n",
      "[CV 3/5] END max_depth=300, max_features=auto, n_estimators=90;, score=0.810 total time=   0.0s\n",
      "[CV 4/5] END max_depth=300, max_features=auto, n_estimators=90;, score=0.768 total time=   0.0s\n",
      "[CV 5/5] END max_depth=300, max_features=auto, n_estimators=90;, score=0.838 total time=   0.0s\n",
      "[CV 1/5] END max_depth=300, max_features=auto, n_estimators=110;, score=0.790 total time=   0.1s\n",
      "[CV 2/5] END max_depth=300, max_features=auto, n_estimators=110;, score=0.797 total time=   0.1s\n",
      "[CV 3/5] END max_depth=300, max_features=auto, n_estimators=110;, score=0.796 total time=   0.1s\n",
      "[CV 4/5] END max_depth=300, max_features=auto, n_estimators=110;, score=0.761 total time=   0.1s\n",
      "[CV 5/5] END max_depth=300, max_features=auto, n_estimators=110;, score=0.824 total time=   0.1s\n",
      "[CV 1/5] END max_depth=300, max_features=sqrt, n_estimators=10;, score=0.776 total time=   0.0s\n",
      "[CV 2/5] END max_depth=300, max_features=sqrt, n_estimators=10;, score=0.839 total time=   0.0s\n",
      "[CV 3/5] END max_depth=300, max_features=sqrt, n_estimators=10;, score=0.803 total time=   0.0s\n",
      "[CV 4/5] END max_depth=300, max_features=sqrt, n_estimators=10;, score=0.732 total time=   0.0s\n",
      "[CV 5/5] END max_depth=300, max_features=sqrt, n_estimators=10;, score=0.789 total time=   0.0s\n",
      "[CV 1/5] END max_depth=300, max_features=sqrt, n_estimators=30;, score=0.783 total time=   0.0s\n",
      "[CV 2/5] END max_depth=300, max_features=sqrt, n_estimators=30;, score=0.790 total time=   0.0s\n",
      "[CV 3/5] END max_depth=300, max_features=sqrt, n_estimators=30;, score=0.796 total time=   0.0s\n",
      "[CV 4/5] END max_depth=300, max_features=sqrt, n_estimators=30;, score=0.725 total time=   0.0s\n",
      "[CV 5/5] END max_depth=300, max_features=sqrt, n_estimators=30;, score=0.838 total time=   0.0s\n",
      "[CV 1/5] END max_depth=300, max_features=sqrt, n_estimators=50;, score=0.776 total time=   0.0s\n",
      "[CV 2/5] END max_depth=300, max_features=sqrt, n_estimators=50;, score=0.811 total time=   0.0s\n",
      "[CV 3/5] END max_depth=300, max_features=sqrt, n_estimators=50;, score=0.789 total time=   0.0s\n",
      "[CV 4/5] END max_depth=300, max_features=sqrt, n_estimators=50;, score=0.761 total time=   0.0s\n",
      "[CV 5/5] END max_depth=300, max_features=sqrt, n_estimators=50;, score=0.817 total time=   0.0s\n",
      "[CV 1/5] END max_depth=300, max_features=sqrt, n_estimators=70;, score=0.762 total time=   0.0s\n",
      "[CV 2/5] END max_depth=300, max_features=sqrt, n_estimators=70;, score=0.818 total time=   0.0s\n",
      "[CV 3/5] END max_depth=300, max_features=sqrt, n_estimators=70;, score=0.803 total time=   0.0s\n",
      "[CV 4/5] END max_depth=300, max_features=sqrt, n_estimators=70;, score=0.754 total time=   0.0s\n",
      "[CV 5/5] END max_depth=300, max_features=sqrt, n_estimators=70;, score=0.817 total time=   0.0s\n",
      "[CV 1/5] END max_depth=300, max_features=sqrt, n_estimators=90;, score=0.790 total time=   0.0s\n",
      "[CV 2/5] END max_depth=300, max_features=sqrt, n_estimators=90;, score=0.818 total time=   0.0s\n",
      "[CV 3/5] END max_depth=300, max_features=sqrt, n_estimators=90;, score=0.796 total time=   0.0s\n",
      "[CV 4/5] END max_depth=300, max_features=sqrt, n_estimators=90;, score=0.768 total time=   0.0s\n",
      "[CV 5/5] END max_depth=300, max_features=sqrt, n_estimators=90;, score=0.831 total time=   0.0s\n",
      "[CV 1/5] END max_depth=300, max_features=sqrt, n_estimators=110;, score=0.783 total time=   0.1s\n",
      "[CV 2/5] END max_depth=300, max_features=sqrt, n_estimators=110;, score=0.811 total time=   0.1s\n",
      "[CV 3/5] END max_depth=300, max_features=sqrt, n_estimators=110;, score=0.803 total time=   0.0s\n",
      "[CV 4/5] END max_depth=300, max_features=sqrt, n_estimators=110;, score=0.761 total time=   0.1s\n",
      "[CV 5/5] END max_depth=300, max_features=sqrt, n_estimators=110;, score=0.831 total time=   0.1s\n",
      "[CV 1/5] END max_depth=300, max_features=log2, n_estimators=10;, score=0.776 total time=   0.0s\n",
      "[CV 2/5] END max_depth=300, max_features=log2, n_estimators=10;, score=0.825 total time=   0.0s\n",
      "[CV 3/5] END max_depth=300, max_features=log2, n_estimators=10;, score=0.803 total time=   0.0s\n",
      "[CV 4/5] END max_depth=300, max_features=log2, n_estimators=10;, score=0.775 total time=   0.0s\n",
      "[CV 5/5] END max_depth=300, max_features=log2, n_estimators=10;, score=0.817 total time=   0.0s\n",
      "[CV 1/5] END max_depth=300, max_features=log2, n_estimators=30;, score=0.790 total time=   0.0s\n",
      "[CV 2/5] END max_depth=300, max_features=log2, n_estimators=30;, score=0.811 total time=   0.0s\n",
      "[CV 3/5] END max_depth=300, max_features=log2, n_estimators=30;, score=0.810 total time=   0.0s\n",
      "[CV 4/5] END max_depth=300, max_features=log2, n_estimators=30;, score=0.754 total time=   0.0s\n",
      "[CV 5/5] END max_depth=300, max_features=log2, n_estimators=30;, score=0.831 total time=   0.0s\n",
      "[CV 1/5] END max_depth=300, max_features=log2, n_estimators=50;, score=0.776 total time=   0.0s\n",
      "[CV 2/5] END max_depth=300, max_features=log2, n_estimators=50;, score=0.797 total time=   0.0s\n",
      "[CV 3/5] END max_depth=300, max_features=log2, n_estimators=50;, score=0.796 total time=   0.0s\n",
      "[CV 4/5] END max_depth=300, max_features=log2, n_estimators=50;, score=0.768 total time=   0.0s\n",
      "[CV 5/5] END max_depth=300, max_features=log2, n_estimators=50;, score=0.831 total time=   0.0s\n",
      "[CV 1/5] END max_depth=300, max_features=log2, n_estimators=70;, score=0.797 total time=   0.0s\n",
      "[CV 2/5] END max_depth=300, max_features=log2, n_estimators=70;, score=0.797 total time=   0.0s\n",
      "[CV 3/5] END max_depth=300, max_features=log2, n_estimators=70;, score=0.796 total time=   0.0s\n",
      "[CV 4/5] END max_depth=300, max_features=log2, n_estimators=70;, score=0.754 total time=   0.0s\n",
      "[CV 5/5] END max_depth=300, max_features=log2, n_estimators=70;, score=0.824 total time=   0.0s\n"
     ]
    },
    {
     "name": "stdout",
     "output_type": "stream",
     "text": [
      "[CV 1/5] END max_depth=300, max_features=log2, n_estimators=90;, score=0.790 total time=   0.0s\n",
      "[CV 2/5] END max_depth=300, max_features=log2, n_estimators=90;, score=0.804 total time=   0.0s\n",
      "[CV 3/5] END max_depth=300, max_features=log2, n_estimators=90;, score=0.810 total time=   0.0s\n",
      "[CV 4/5] END max_depth=300, max_features=log2, n_estimators=90;, score=0.761 total time=   0.0s\n",
      "[CV 5/5] END max_depth=300, max_features=log2, n_estimators=90;, score=0.824 total time=   0.0s\n",
      "[CV 1/5] END max_depth=300, max_features=log2, n_estimators=110;, score=0.776 total time=   0.0s\n",
      "[CV 2/5] END max_depth=300, max_features=log2, n_estimators=110;, score=0.797 total time=   0.0s\n",
      "[CV 3/5] END max_depth=300, max_features=log2, n_estimators=110;, score=0.789 total time=   0.0s\n",
      "[CV 4/5] END max_depth=300, max_features=log2, n_estimators=110;, score=0.761 total time=   0.0s\n",
      "[CV 5/5] END max_depth=300, max_features=log2, n_estimators=110;, score=0.838 total time=   0.0s\n",
      "[CV 1/5] END max_depth=350, max_features=auto, n_estimators=10;, score=0.783 total time=   0.0s\n",
      "[CV 2/5] END max_depth=350, max_features=auto, n_estimators=10;, score=0.783 total time=   0.0s\n",
      "[CV 3/5] END max_depth=350, max_features=auto, n_estimators=10;, score=0.775 total time=   0.0s\n",
      "[CV 4/5] END max_depth=350, max_features=auto, n_estimators=10;, score=0.739 total time=   0.0s\n",
      "[CV 5/5] END max_depth=350, max_features=auto, n_estimators=10;, score=0.817 total time=   0.0s\n",
      "[CV 1/5] END max_depth=350, max_features=auto, n_estimators=30;, score=0.797 total time=   0.0s\n",
      "[CV 2/5] END max_depth=350, max_features=auto, n_estimators=30;, score=0.804 total time=   0.0s\n",
      "[CV 3/5] END max_depth=350, max_features=auto, n_estimators=30;, score=0.796 total time=   0.0s\n",
      "[CV 4/5] END max_depth=350, max_features=auto, n_estimators=30;, score=0.775 total time=   0.0s\n",
      "[CV 5/5] END max_depth=350, max_features=auto, n_estimators=30;, score=0.831 total time=   0.0s\n",
      "[CV 1/5] END max_depth=350, max_features=auto, n_estimators=50;, score=0.797 total time=   0.0s\n",
      "[CV 2/5] END max_depth=350, max_features=auto, n_estimators=50;, score=0.790 total time=   0.0s\n",
      "[CV 3/5] END max_depth=350, max_features=auto, n_estimators=50;, score=0.796 total time=   0.0s\n",
      "[CV 4/5] END max_depth=350, max_features=auto, n_estimators=50;, score=0.754 total time=   0.0s\n",
      "[CV 5/5] END max_depth=350, max_features=auto, n_estimators=50;, score=0.824 total time=   0.0s\n",
      "[CV 1/5] END max_depth=350, max_features=auto, n_estimators=70;, score=0.783 total time=   0.0s\n",
      "[CV 2/5] END max_depth=350, max_features=auto, n_estimators=70;, score=0.825 total time=   0.0s\n",
      "[CV 3/5] END max_depth=350, max_features=auto, n_estimators=70;, score=0.803 total time=   0.0s\n",
      "[CV 4/5] END max_depth=350, max_features=auto, n_estimators=70;, score=0.754 total time=   0.0s\n",
      "[CV 5/5] END max_depth=350, max_features=auto, n_estimators=70;, score=0.824 total time=   0.0s\n",
      "[CV 1/5] END max_depth=350, max_features=auto, n_estimators=90;, score=0.783 total time=   0.0s\n",
      "[CV 2/5] END max_depth=350, max_features=auto, n_estimators=90;, score=0.811 total time=   0.0s\n",
      "[CV 3/5] END max_depth=350, max_features=auto, n_estimators=90;, score=0.796 total time=   0.0s\n",
      "[CV 4/5] END max_depth=350, max_features=auto, n_estimators=90;, score=0.761 total time=   0.0s\n",
      "[CV 5/5] END max_depth=350, max_features=auto, n_estimators=90;, score=0.838 total time=   0.0s\n",
      "[CV 1/5] END max_depth=350, max_features=auto, n_estimators=110;, score=0.790 total time=   0.0s\n",
      "[CV 2/5] END max_depth=350, max_features=auto, n_estimators=110;, score=0.790 total time=   0.0s\n",
      "[CV 3/5] END max_depth=350, max_features=auto, n_estimators=110;, score=0.796 total time=   0.0s\n",
      "[CV 4/5] END max_depth=350, max_features=auto, n_estimators=110;, score=0.761 total time=   0.0s\n",
      "[CV 5/5] END max_depth=350, max_features=auto, n_estimators=110;, score=0.824 total time=   0.0s\n",
      "[CV 1/5] END max_depth=350, max_features=sqrt, n_estimators=10;, score=0.776 total time=   0.0s\n",
      "[CV 2/5] END max_depth=350, max_features=sqrt, n_estimators=10;, score=0.811 total time=   0.0s\n",
      "[CV 3/5] END max_depth=350, max_features=sqrt, n_estimators=10;, score=0.803 total time=   0.0s\n",
      "[CV 4/5] END max_depth=350, max_features=sqrt, n_estimators=10;, score=0.732 total time=   0.0s\n",
      "[CV 5/5] END max_depth=350, max_features=sqrt, n_estimators=10;, score=0.817 total time=   0.0s\n",
      "[CV 1/5] END max_depth=350, max_features=sqrt, n_estimators=30;, score=0.790 total time=   0.0s\n",
      "[CV 2/5] END max_depth=350, max_features=sqrt, n_estimators=30;, score=0.797 total time=   0.0s\n",
      "[CV 3/5] END max_depth=350, max_features=sqrt, n_estimators=30;, score=0.810 total time=   0.0s\n",
      "[CV 4/5] END max_depth=350, max_features=sqrt, n_estimators=30;, score=0.768 total time=   0.0s\n",
      "[CV 5/5] END max_depth=350, max_features=sqrt, n_estimators=30;, score=0.824 total time=   0.0s\n",
      "[CV 1/5] END max_depth=350, max_features=sqrt, n_estimators=50;, score=0.769 total time=   0.0s\n",
      "[CV 2/5] END max_depth=350, max_features=sqrt, n_estimators=50;, score=0.797 total time=   0.0s\n",
      "[CV 3/5] END max_depth=350, max_features=sqrt, n_estimators=50;, score=0.810 total time=   0.0s\n",
      "[CV 4/5] END max_depth=350, max_features=sqrt, n_estimators=50;, score=0.746 total time=   0.0s\n",
      "[CV 5/5] END max_depth=350, max_features=sqrt, n_estimators=50;, score=0.817 total time=   0.0s\n",
      "[CV 1/5] END max_depth=350, max_features=sqrt, n_estimators=70;, score=0.776 total time=   0.0s\n",
      "[CV 2/5] END max_depth=350, max_features=sqrt, n_estimators=70;, score=0.804 total time=   0.0s\n",
      "[CV 3/5] END max_depth=350, max_features=sqrt, n_estimators=70;, score=0.803 total time=   0.0s\n",
      "[CV 4/5] END max_depth=350, max_features=sqrt, n_estimators=70;, score=0.768 total time=   0.0s\n",
      "[CV 5/5] END max_depth=350, max_features=sqrt, n_estimators=70;, score=0.817 total time=   0.0s\n",
      "[CV 1/5] END max_depth=350, max_features=sqrt, n_estimators=90;, score=0.818 total time=   0.0s\n",
      "[CV 2/5] END max_depth=350, max_features=sqrt, n_estimators=90;, score=0.804 total time=   0.0s\n",
      "[CV 3/5] END max_depth=350, max_features=sqrt, n_estimators=90;, score=0.782 total time=   0.0s\n",
      "[CV 4/5] END max_depth=350, max_features=sqrt, n_estimators=90;, score=0.768 total time=   0.0s\n",
      "[CV 5/5] END max_depth=350, max_features=sqrt, n_estimators=90;, score=0.831 total time=   0.0s\n",
      "[CV 1/5] END max_depth=350, max_features=sqrt, n_estimators=110;, score=0.769 total time=   0.0s\n",
      "[CV 2/5] END max_depth=350, max_features=sqrt, n_estimators=110;, score=0.797 total time=   0.0s\n",
      "[CV 3/5] END max_depth=350, max_features=sqrt, n_estimators=110;, score=0.796 total time=   0.0s\n",
      "[CV 4/5] END max_depth=350, max_features=sqrt, n_estimators=110;, score=0.768 total time=   0.0s\n",
      "[CV 5/5] END max_depth=350, max_features=sqrt, n_estimators=110;, score=0.824 total time=   0.0s\n",
      "[CV 1/5] END max_depth=350, max_features=log2, n_estimators=10;, score=0.769 total time=   0.0s\n",
      "[CV 2/5] END max_depth=350, max_features=log2, n_estimators=10;, score=0.818 total time=   0.0s\n",
      "[CV 3/5] END max_depth=350, max_features=log2, n_estimators=10;, score=0.789 total time=   0.0s\n",
      "[CV 4/5] END max_depth=350, max_features=log2, n_estimators=10;, score=0.796 total time=   0.0s\n",
      "[CV 5/5] END max_depth=350, max_features=log2, n_estimators=10;, score=0.824 total time=   0.0s\n",
      "[CV 1/5] END max_depth=350, max_features=log2, n_estimators=30;, score=0.783 total time=   0.0s\n",
      "[CV 2/5] END max_depth=350, max_features=log2, n_estimators=30;, score=0.832 total time=   0.0s\n",
      "[CV 3/5] END max_depth=350, max_features=log2, n_estimators=30;, score=0.810 total time=   0.0s\n",
      "[CV 4/5] END max_depth=350, max_features=log2, n_estimators=30;, score=0.761 total time=   0.0s\n",
      "[CV 5/5] END max_depth=350, max_features=log2, n_estimators=30;, score=0.803 total time=   0.0s\n",
      "[CV 1/5] END max_depth=350, max_features=log2, n_estimators=50;, score=0.783 total time=   0.0s\n",
      "[CV 2/5] END max_depth=350, max_features=log2, n_estimators=50;, score=0.811 total time=   0.0s\n",
      "[CV 3/5] END max_depth=350, max_features=log2, n_estimators=50;, score=0.803 total time=   0.0s\n",
      "[CV 4/5] END max_depth=350, max_features=log2, n_estimators=50;, score=0.761 total time=   0.0s\n",
      "[CV 5/5] END max_depth=350, max_features=log2, n_estimators=50;, score=0.845 total time=   0.0s\n",
      "[CV 1/5] END max_depth=350, max_features=log2, n_estimators=70;, score=0.783 total time=   0.0s\n"
     ]
    },
    {
     "name": "stdout",
     "output_type": "stream",
     "text": [
      "[CV 2/5] END max_depth=350, max_features=log2, n_estimators=70;, score=0.811 total time=   0.0s\n",
      "[CV 3/5] END max_depth=350, max_features=log2, n_estimators=70;, score=0.796 total time=   0.0s\n",
      "[CV 4/5] END max_depth=350, max_features=log2, n_estimators=70;, score=0.746 total time=   0.0s\n",
      "[CV 5/5] END max_depth=350, max_features=log2, n_estimators=70;, score=0.824 total time=   0.0s\n",
      "[CV 1/5] END max_depth=350, max_features=log2, n_estimators=90;, score=0.797 total time=   0.0s\n",
      "[CV 2/5] END max_depth=350, max_features=log2, n_estimators=90;, score=0.804 total time=   0.0s\n",
      "[CV 3/5] END max_depth=350, max_features=log2, n_estimators=90;, score=0.803 total time=   0.0s\n",
      "[CV 4/5] END max_depth=350, max_features=log2, n_estimators=90;, score=0.754 total time=   0.0s\n",
      "[CV 5/5] END max_depth=350, max_features=log2, n_estimators=90;, score=0.838 total time=   0.0s\n",
      "[CV 1/5] END max_depth=350, max_features=log2, n_estimators=110;, score=0.769 total time=   0.0s\n",
      "[CV 2/5] END max_depth=350, max_features=log2, n_estimators=110;, score=0.797 total time=   0.0s\n",
      "[CV 3/5] END max_depth=350, max_features=log2, n_estimators=110;, score=0.796 total time=   0.0s\n",
      "[CV 4/5] END max_depth=350, max_features=log2, n_estimators=110;, score=0.761 total time=   0.0s\n",
      "[CV 5/5] END max_depth=350, max_features=log2, n_estimators=110;, score=0.845 total time=   0.0s\n"
     ]
    },
    {
     "data": {
      "text/html": [
       "<style>#sk-container-id-1 {color: black;background-color: white;}#sk-container-id-1 pre{padding: 0;}#sk-container-id-1 div.sk-toggleable {background-color: white;}#sk-container-id-1 label.sk-toggleable__label {cursor: pointer;display: block;width: 100%;margin-bottom: 0;padding: 0.3em;box-sizing: border-box;text-align: center;}#sk-container-id-1 label.sk-toggleable__label-arrow:before {content: \"▸\";float: left;margin-right: 0.25em;color: #696969;}#sk-container-id-1 label.sk-toggleable__label-arrow:hover:before {color: black;}#sk-container-id-1 div.sk-estimator:hover label.sk-toggleable__label-arrow:before {color: black;}#sk-container-id-1 div.sk-toggleable__content {max-height: 0;max-width: 0;overflow: hidden;text-align: left;background-color: #f0f8ff;}#sk-container-id-1 div.sk-toggleable__content pre {margin: 0.2em;color: black;border-radius: 0.25em;background-color: #f0f8ff;}#sk-container-id-1 input.sk-toggleable__control:checked~div.sk-toggleable__content {max-height: 200px;max-width: 100%;overflow: auto;}#sk-container-id-1 input.sk-toggleable__control:checked~label.sk-toggleable__label-arrow:before {content: \"▾\";}#sk-container-id-1 div.sk-estimator input.sk-toggleable__control:checked~label.sk-toggleable__label {background-color: #d4ebff;}#sk-container-id-1 div.sk-label input.sk-toggleable__control:checked~label.sk-toggleable__label {background-color: #d4ebff;}#sk-container-id-1 input.sk-hidden--visually {border: 0;clip: rect(1px 1px 1px 1px);clip: rect(1px, 1px, 1px, 1px);height: 1px;margin: -1px;overflow: hidden;padding: 0;position: absolute;width: 1px;}#sk-container-id-1 div.sk-estimator {font-family: monospace;background-color: #f0f8ff;border: 1px dotted black;border-radius: 0.25em;box-sizing: border-box;margin-bottom: 0.5em;}#sk-container-id-1 div.sk-estimator:hover {background-color: #d4ebff;}#sk-container-id-1 div.sk-parallel-item::after {content: \"\";width: 100%;border-bottom: 1px solid gray;flex-grow: 1;}#sk-container-id-1 div.sk-label:hover label.sk-toggleable__label {background-color: #d4ebff;}#sk-container-id-1 div.sk-serial::before {content: \"\";position: absolute;border-left: 1px solid gray;box-sizing: border-box;top: 0;bottom: 0;left: 50%;z-index: 0;}#sk-container-id-1 div.sk-serial {display: flex;flex-direction: column;align-items: center;background-color: white;padding-right: 0.2em;padding-left: 0.2em;position: relative;}#sk-container-id-1 div.sk-item {position: relative;z-index: 1;}#sk-container-id-1 div.sk-parallel {display: flex;align-items: stretch;justify-content: center;background-color: white;position: relative;}#sk-container-id-1 div.sk-item::before, #sk-container-id-1 div.sk-parallel-item::before {content: \"\";position: absolute;border-left: 1px solid gray;box-sizing: border-box;top: 0;bottom: 0;left: 50%;z-index: -1;}#sk-container-id-1 div.sk-parallel-item {display: flex;flex-direction: column;z-index: 1;position: relative;background-color: white;}#sk-container-id-1 div.sk-parallel-item:first-child::after {align-self: flex-end;width: 50%;}#sk-container-id-1 div.sk-parallel-item:last-child::after {align-self: flex-start;width: 50%;}#sk-container-id-1 div.sk-parallel-item:only-child::after {width: 0;}#sk-container-id-1 div.sk-dashed-wrapped {border: 1px dashed gray;margin: 0 0.4em 0.5em 0.4em;box-sizing: border-box;padding-bottom: 0.4em;background-color: white;}#sk-container-id-1 div.sk-label label {font-family: monospace;font-weight: bold;display: inline-block;line-height: 1.2em;}#sk-container-id-1 div.sk-label-container {text-align: center;}#sk-container-id-1 div.sk-container {/* jupyter's `normalize.less` sets `[hidden] { display: none; }` but bootstrap.min.css set `[hidden] { display: none !important; }` so we also need the `!important` here to be able to override the default hidden behavior on the sphinx rendered scikit-learn.org. See: https://github.com/scikit-learn/scikit-learn/issues/21755 */display: inline-block !important;position: relative;}#sk-container-id-1 div.sk-text-repr-fallback {display: none;}</style><div id=\"sk-container-id-1\" class=\"sk-top-container\"><div class=\"sk-text-repr-fallback\"><pre>GridSearchCV(estimator=RandomForestClassifier(),\n",
       "             param_grid={&#x27;max_depth&#x27;: [200, 250, 300, 350],\n",
       "                         &#x27;max_features&#x27;: [&#x27;auto&#x27;, &#x27;sqrt&#x27;, &#x27;log2&#x27;],\n",
       "                         &#x27;n_estimators&#x27;: [10, 30, 50, 70, 90, 110]},\n",
       "             verbose=4)</pre><b>In a Jupyter environment, please rerun this cell to show the HTML representation or trust the notebook. <br />On GitHub, the HTML representation is unable to render, please try loading this page with nbviewer.org.</b></div><div class=\"sk-container\" hidden><div class=\"sk-item sk-dashed-wrapped\"><div class=\"sk-label-container\"><div class=\"sk-label sk-toggleable\"><input class=\"sk-toggleable__control sk-hidden--visually\" id=\"sk-estimator-id-1\" type=\"checkbox\" ><label for=\"sk-estimator-id-1\" class=\"sk-toggleable__label sk-toggleable__label-arrow\">GridSearchCV</label><div class=\"sk-toggleable__content\"><pre>GridSearchCV(estimator=RandomForestClassifier(),\n",
       "             param_grid={&#x27;max_depth&#x27;: [200, 250, 300, 350],\n",
       "                         &#x27;max_features&#x27;: [&#x27;auto&#x27;, &#x27;sqrt&#x27;, &#x27;log2&#x27;],\n",
       "                         &#x27;n_estimators&#x27;: [10, 30, 50, 70, 90, 110]},\n",
       "             verbose=4)</pre></div></div></div><div class=\"sk-parallel\"><div class=\"sk-parallel-item\"><div class=\"sk-item\"><div class=\"sk-label-container\"><div class=\"sk-label sk-toggleable\"><input class=\"sk-toggleable__control sk-hidden--visually\" id=\"sk-estimator-id-2\" type=\"checkbox\" ><label for=\"sk-estimator-id-2\" class=\"sk-toggleable__label sk-toggleable__label-arrow\">estimator: RandomForestClassifier</label><div class=\"sk-toggleable__content\"><pre>RandomForestClassifier()</pre></div></div></div><div class=\"sk-serial\"><div class=\"sk-item\"><div class=\"sk-estimator sk-toggleable\"><input class=\"sk-toggleable__control sk-hidden--visually\" id=\"sk-estimator-id-3\" type=\"checkbox\" ><label for=\"sk-estimator-id-3\" class=\"sk-toggleable__label sk-toggleable__label-arrow\">RandomForestClassifier</label><div class=\"sk-toggleable__content\"><pre>RandomForestClassifier()</pre></div></div></div></div></div></div></div></div></div></div>"
      ],
      "text/plain": [
       "GridSearchCV(estimator=RandomForestClassifier(),\n",
       "             param_grid={'max_depth': [200, 250, 300, 350],\n",
       "                         'max_features': ['auto', 'sqrt', 'log2'],\n",
       "                         'n_estimators': [10, 30, 50, 70, 90, 110]},\n",
       "             verbose=4)"
      ]
     },
     "execution_count": 67,
     "metadata": {},
     "output_type": "execute_result"
    }
   ],
   "source": [
    "grid_clf.fit(x_train, y_train)"
   ]
  },
  {
   "cell_type": "code",
   "execution_count": 68,
   "id": "f3a6297e",
   "metadata": {},
   "outputs": [
    {
     "name": "stdout",
     "output_type": "stream",
     "text": [
      "RandomForestClassifier(max_depth=250, n_estimators=50)\n"
     ]
    }
   ],
   "source": [
    "clf=grid_clf.best_estimator_\n",
    "print(clf)"
   ]
  },
  {
   "cell_type": "code",
   "execution_count": 69,
   "id": "ee40a711",
   "metadata": {},
   "outputs": [
    {
     "name": "stdout",
     "output_type": "stream",
     "text": [
      "{'max_depth': 250, 'max_features': 'sqrt', 'n_estimators': 50}\n"
     ]
    }
   ],
   "source": [
    "clf=grid_clf.best_params_\n",
    "print(clf)"
   ]
  },
  {
   "cell_type": "code",
   "execution_count": 70,
   "id": "3eb637e0",
   "metadata": {},
   "outputs": [
    {
     "data": {
      "text/plain": [
       "0.8156424581005587"
      ]
     },
     "execution_count": 70,
     "metadata": {},
     "output_type": "execute_result"
    }
   ],
   "source": [
    "clf = RandomForestClassifier(max_depth=200, n_estimators=10)\n",
    "clf.fit(x_train,y_train)\n",
    "clf.score(x_test,y_test)"
   ]
  },
  {
   "cell_type": "code",
   "execution_count": 71,
   "id": "613d9dc7",
   "metadata": {},
   "outputs": [
    {
     "data": {
      "text/plain": [
       "array([1, 0, 0, 0, 0, 0, 0, 1, 0, 0, 1, 0, 0, 1, 1, 0, 0, 0, 1, 1, 0, 1,\n",
       "       0, 0, 1, 1, 0, 0, 0, 1, 0, 0, 1, 0, 0, 0, 0, 0, 1, 0, 1, 0, 1, 1,\n",
       "       0, 1, 0, 0, 1, 1, 0, 0, 1, 1, 0, 0, 0, 1, 1, 1, 0, 0, 1, 0, 0, 1,\n",
       "       1, 0, 0, 0, 1, 0, 0, 0, 0, 0, 0, 1, 1, 1, 0, 0, 0, 0, 0, 0, 0, 1,\n",
       "       0, 1, 1, 0, 0, 0, 1, 0, 0, 0, 0, 1, 0, 0, 1, 0, 1, 0, 0, 0, 0, 0,\n",
       "       0, 1, 0, 1, 1, 0, 0, 0, 0, 0, 0, 1, 0, 0, 1, 1, 1, 0, 0, 1, 0, 0,\n",
       "       0, 0, 0, 0, 1, 0, 1, 0, 1, 0, 1, 1, 1, 0, 0, 0, 0, 0, 0, 1, 0, 1,\n",
       "       1, 0, 0, 0, 0, 1, 0, 0, 0, 0, 0, 1, 1, 1, 0, 0, 0, 1, 1, 0, 0, 1,\n",
       "       0, 1, 0, 0, 0, 0, 1, 1, 1, 0, 1, 0, 0, 0, 1, 0, 0, 1, 0, 0, 0, 0,\n",
       "       0, 1, 0, 1, 0, 1, 0, 0, 0, 0, 0, 1, 0, 0, 1, 0, 0, 0, 1, 0, 0, 1,\n",
       "       0, 0, 1, 0, 1, 0, 0, 0, 0, 1, 0, 0, 0, 1, 0, 0, 0, 0, 0, 0, 0, 0,\n",
       "       0, 1, 1, 0, 0, 0, 1, 0, 0, 0, 0, 1, 1, 0, 0, 0, 1, 0, 0, 0, 1, 1,\n",
       "       0, 0, 0, 0, 0, 0, 1, 0, 0, 1, 1, 0, 0, 0, 1, 0, 1, 0, 0, 0, 0, 1,\n",
       "       1, 1, 0, 0, 1, 1, 1, 0, 1, 0, 0, 1, 0, 0, 0, 0, 0, 1, 0, 0, 0, 1,\n",
       "       0, 0, 1, 1, 0, 0, 0, 0, 0, 0, 0, 0, 0, 0, 0, 0, 1, 0, 0, 0, 1, 0,\n",
       "       1, 0, 0, 1, 0, 1, 0, 0, 0, 0, 0, 1, 1, 1, 1, 0, 0, 0, 0, 0, 0, 0,\n",
       "       1, 0, 1, 0, 0, 0, 1, 0, 1, 1, 1, 0, 0, 0, 0, 1, 0, 0, 0, 0, 0, 1,\n",
       "       1, 0, 0, 0, 0, 1, 1, 0, 1, 0, 1, 0, 1, 0, 0, 0, 1, 0, 0, 0, 1, 0,\n",
       "       0, 0, 0, 0, 1, 1, 0, 0, 0, 0, 0, 1, 0, 0, 0, 1, 0, 0, 0, 1, 1, 0,\n",
       "       0, 1, 0, 0, 0, 0, 0, 0, 1, 1, 1, 1, 1, 1, 1, 1, 0, 0, 0, 1, 1, 0,\n",
       "       0, 1, 1, 0, 0, 0, 0, 0, 0, 0, 1, 1, 1, 0, 0, 0, 0, 1, 1, 0, 0, 0,\n",
       "       1, 0, 1, 0, 1, 0, 1, 1, 1, 1, 0, 0, 1, 0, 1, 0, 0, 1, 1, 0, 0, 0,\n",
       "       0, 1, 0, 0, 1, 0, 0, 0, 0, 0, 0, 0, 0, 0, 0, 0, 0, 0, 0, 0, 1, 1,\n",
       "       0, 0, 0, 1, 1, 0, 0, 1, 1, 1, 0, 0, 0, 1, 0, 0, 0, 0, 1, 0, 1, 0,\n",
       "       0, 1, 0, 1, 0, 0, 0, 1, 0, 0, 0, 0, 1, 1, 1, 0, 0, 1, 1, 1, 0, 1,\n",
       "       1, 0, 0, 0, 0, 1, 0, 1, 1, 1, 0, 0, 0, 1, 1, 0, 1, 0, 1, 1, 1, 0,\n",
       "       0, 1, 1, 0, 0, 0, 1, 0, 0, 0, 1, 0, 0, 1, 0, 0, 0, 1, 0, 0, 1, 1,\n",
       "       1, 0, 1, 1, 0, 1, 0, 1, 1, 0, 0, 0, 0, 0, 0, 1, 1, 0, 0, 0, 0, 0,\n",
       "       1, 0, 0, 0, 1, 1, 1, 0, 0, 1, 0, 0, 0, 0, 0, 1, 1, 1, 0, 1, 0, 0,\n",
       "       1, 0, 0, 0, 0, 0, 0, 0, 0, 0, 1, 1, 1, 1, 1, 1, 1, 0, 1, 0, 1, 0,\n",
       "       0, 0, 0, 0, 1, 0, 1, 0, 0, 0, 1, 1, 0, 0, 0, 1, 1, 0, 1, 1, 0, 1,\n",
       "       0, 0, 1, 1, 1, 1, 0, 0, 0, 1, 0, 0, 0, 1, 1, 0, 1, 1, 1, 0, 0, 1,\n",
       "       1, 1, 1, 1, 1, 0, 1, 0], dtype=int64)"
      ]
     },
     "execution_count": 71,
     "metadata": {},
     "output_type": "execute_result"
    }
   ],
   "source": [
    "y_pred=clf.predict(x_train)\n",
    "y_pred"
   ]
  },
  {
   "cell_type": "code",
   "execution_count": 72,
   "id": "0eea7fb2",
   "metadata": {},
   "outputs": [
    {
     "data": {
      "text/plain": [
       "array([0, 0, 0, 1, 1, 0, 1, 1, 1, 1, 0, 1, 0, 1, 1, 1, 0, 0, 0, 0, 0, 1,\n",
       "       0, 0, 1, 1, 0, 1, 1, 0, 0, 1, 0, 0, 0, 0, 0, 0, 0, 0, 0, 0, 0, 0,\n",
       "       1, 0, 0, 1, 0, 0, 0, 0, 1, 0, 0, 0, 0, 0, 0, 0, 0, 1, 1, 0, 1, 0,\n",
       "       1, 0, 1, 1, 1, 0, 1, 0, 0, 0, 1, 1, 0, 0, 0, 1, 1, 0, 0, 1, 1, 0,\n",
       "       1, 0, 0, 0, 1, 1, 0, 0, 1, 0, 0, 0, 0, 0, 0, 0, 0, 0, 1, 0, 0, 1,\n",
       "       0, 1, 1, 0, 0, 1, 0, 1, 0, 1, 1, 0, 0, 0, 0, 0, 0, 0, 0, 0, 1, 0,\n",
       "       0, 0, 0, 0, 0, 0, 0, 0, 0, 1, 0, 1, 1, 0, 0, 0, 1, 1, 0, 1, 0, 0,\n",
       "       1, 0, 0, 0, 1, 1, 0, 0, 1, 0, 0, 0, 0, 0, 0, 0, 0, 1, 0, 0, 1, 0,\n",
       "       1, 0, 1], dtype=int64)"
      ]
     },
     "execution_count": 72,
     "metadata": {},
     "output_type": "execute_result"
    }
   ],
   "source": [
    "y_pred=clf.predict(x_test)\n",
    "y_pred"
   ]
  },
  {
   "cell_type": "code",
   "execution_count": 73,
   "id": "46dd84db",
   "metadata": {},
   "outputs": [
    {
     "data": {
      "text/plain": [
       "0.8156424581005587"
      ]
     },
     "execution_count": 73,
     "metadata": {},
     "output_type": "execute_result"
    }
   ],
   "source": [
    "accuracy_score(y_test,y_pred)"
   ]
  },
  {
   "cell_type": "code",
   "execution_count": 74,
   "id": "65e42c1c",
   "metadata": {},
   "outputs": [
    {
     "data": {
      "image/png": "[encoded data removed]",
      "text/plain": [
       "<Figure size 432x288 with 1 Axes>"
      ]
     },
     "metadata": {
      "needs_background": "light"
     },
     "output_type": "display_data"
    },
    {
     "name": "stdout",
     "output_type": "stream",
     "text": [
      "The Score for the ROC Curve is : 79.33%\n"
     ]
    }
   ],
   "source": [
    "#roc_curve plot to check the socre of RFC\n",
    "fpr, tpr, _= roc_curve(y_test, y_pred)\n",
    "auc_score = roc_auc_score(y_test, y_pred)\n",
    "plt.plot(fpr, tpr, label=\"auc=\"+str(auc_score))\n",
    "plt.box(True)\n",
    "plt.title('ROC CURVE RFC')\n",
    "plt.xlabel('False Positive Rate')\n",
    "plt.ylabel('True Positive Rate')\n",
    "plt.legend(loc=4)\n",
    "plt.grid(True)\n",
    "plt.show()\n",
    "print('The Score for the ROC Curve is : {}%'.format(round(auc_score,4)*100))"
   ]
  },
  {
   "cell_type": "code",
   "execution_count": 75,
   "id": "7c7ab01b",
   "metadata": {},
   "outputs": [
    {
     "name": "stdout",
     "output_type": "stream",
     "text": [
      "0.8137153976523759\n"
     ]
    }
   ],
   "source": [
    "print(cross_val_score(RFC,x,y,cv=5).mean())"
   ]
  },
  {
   "cell_type": "markdown",
   "id": "e30e0cac",
   "metadata": {},
   "source": [
    "RandomForestClassifier model is the best accuracy result to be my final model"
   ]
  },
  {
   "cell_type": "code",
   "execution_count": 76,
   "id": "f29dd22b",
   "metadata": {},
   "outputs": [],
   "source": [
    "import pickle\n",
    "filename='titanic.pkl'\n",
    "pickle.dump(clf,open(filename, 'wb'))"
   ]
  }
 ],
 "metadata": {
  "kernelspec": {
   "display_name": "Python 3 (ipykernel)",
   "language": "python",
   "name": "python3"
  },
  "language_info": {
   "codemirror_mode": {
    "name": "ipython",
    "version": 3
   },
   "file_extension": ".py",
   "mimetype": "text/x-python",
   "name": "python",
   "nbconvert_exporter": "python",
   "pygments_lexer": "ipython3",
   "version": "3.9.7"
  }
 },
 "nbformat": 4,
 "nbformat_minor": 5
}
